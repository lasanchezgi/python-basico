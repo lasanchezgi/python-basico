{
 "cells": [
  {
   "attachments": {},
   "cell_type": "markdown",
   "metadata": {},
   "source": [
    "# Tipos de datos\n",
    "\n",
    "* String: Cadenas de texto o caracteres\n",
    "* La funcion `type()` nos ayuda a saber el tipo de la variable\n",
    "* Números (enteros)\n",
    "* Booleans (`True` or `False`) (La primera letra debe ir en mayuscula)\n",
    "* Los inputs por default son strings "
   ]
  },
  {
   "attachments": {},
   "cell_type": "markdown",
   "metadata": {},
   "source": [
    "## Strings"
   ]
  },
  {
   "cell_type": "code",
   "execution_count": 1,
   "metadata": {},
   "outputs": [
    {
     "name": "stdout",
     "output_type": "stream",
     "text": [
      "Laura Sánchez\n"
     ]
    }
   ],
   "source": [
    "name = 'Laura'\n",
    "lastname = 'Sánchez'\n",
    "print(name, lastname)"
   ]
  },
  {
   "cell_type": "code",
   "execution_count": 2,
   "metadata": {},
   "outputs": [
    {
     "name": "stdout",
     "output_type": "stream",
     "text": [
      "LauraSánchez\n"
     ]
    }
   ],
   "source": [
    "full_name = name + lastname\n",
    "print(full_name)"
   ]
  },
  {
   "cell_type": "code",
   "execution_count": 3,
   "metadata": {},
   "outputs": [
    {
     "name": "stdout",
     "output_type": "stream",
     "text": [
      "Laura Sánchez\n"
     ]
    }
   ],
   "source": [
    "full_name = name + ' ' + lastname\n",
    "print(full_name)"
   ]
  },
  {
   "cell_type": "code",
   "execution_count": 4,
   "metadata": {},
   "outputs": [
    {
     "name": "stdout",
     "output_type": "stream",
     "text": [
      "Hello, my name is Laura and my lastname is Sánchez\n"
     ]
    }
   ],
   "source": [
    "# Formato: Sirve para darl estructura a nuestro texto\n",
    "template = 'Hello, my name is {} and my lastname is {}'.format(name, lastname)\n",
    "print(template)"
   ]
  },
  {
   "cell_type": "code",
   "execution_count": 5,
   "metadata": {},
   "outputs": [
    {
     "name": "stdout",
     "output_type": "stream",
     "text": [
      "Hello, my name is Laura and my lastname is Sánchez\n"
     ]
    }
   ],
   "source": [
    "# De una forma más corta\n",
    "print(f'Hello, my name is {name} and my lastname is {lastname}')"
   ]
  },
  {
   "attachments": {},
   "cell_type": "markdown",
   "metadata": {},
   "source": [
    "## Numbers\n",
    "\n",
    "* Numeros enteros 1-2-3-4\n",
    "* Numeros flotantes (precisión decimal 12.5)"
   ]
  },
  {
   "cell_type": "code",
   "execution_count": 6,
   "metadata": {},
   "outputs": [
    {
     "name": "stdout",
     "output_type": "stream",
     "text": [
      "<class 'int'>\n"
     ]
    }
   ],
   "source": [
    "lives = 3\n",
    "print(type(lives))"
   ]
  },
  {
   "cell_type": "code",
   "execution_count": 7,
   "metadata": {},
   "outputs": [
    {
     "name": "stdout",
     "output_type": "stream",
     "text": [
      "<class 'float'>\n"
     ]
    }
   ],
   "source": [
    "temp = 15.12\n",
    "print(type(temp))"
   ]
  },
  {
   "cell_type": "code",
   "execution_count": 8,
   "metadata": {},
   "outputs": [
    {
     "data": {
      "text/plain": [
       "27"
      ]
     },
     "execution_count": 8,
     "metadata": {},
     "output_type": "execute_result"
    }
   ],
   "source": [
    "lives = 12 + 15\n",
    "lives"
   ]
  },
  {
   "cell_type": "code",
   "execution_count": 9,
   "metadata": {},
   "outputs": [
    {
     "data": {
      "text/plain": [
       "26"
      ]
     },
     "execution_count": 9,
     "metadata": {},
     "output_type": "execute_result"
    }
   ],
   "source": [
    "lives = lives - 1\n",
    "lives"
   ]
  },
  {
   "cell_type": "code",
   "execution_count": 10,
   "metadata": {},
   "outputs": [
    {
     "data": {
      "text/plain": [
       "25"
      ]
     },
     "execution_count": 10,
     "metadata": {},
     "output_type": "execute_result"
    }
   ],
   "source": [
    "lives -= 1\n",
    "lives"
   ]
  },
  {
   "cell_type": "code",
   "execution_count": 11,
   "metadata": {},
   "outputs": [
    {
     "data": {
      "text/plain": [
       "30"
      ]
     },
     "execution_count": 11,
     "metadata": {},
     "output_type": "execute_result"
    }
   ],
   "source": [
    "lives += 5\n",
    "lives"
   ]
  },
  {
   "cell_type": "code",
   "execution_count": 12,
   "metadata": {},
   "outputs": [
    {
     "name": "stdout",
     "output_type": "stream",
     "text": [
      "4.5e+37\n",
      "1e-41\n"
     ]
    }
   ],
   "source": [
    "num1  = 45000000000000000000000000000000000000.02\n",
    "num2 = 0.00000000000000000000000000000000000000001\n",
    "# Numeros muy grandes o muy pequeños, Python lo representa con notación cientifica\n",
    "print(num1)\n",
    "print(num2)"
   ]
  },
  {
   "cell_type": "code",
   "execution_count": 13,
   "metadata": {},
   "outputs": [
    {
     "name": "stdout",
     "output_type": "stream",
     "text": [
      "El presupuesto promedio es $ 49851.0\n"
     ]
    }
   ],
   "source": [
    "# Presupuesto \n",
    "ene = float(input('Ingresa el presupuesto de enero: $ '))\n",
    "feb = float(input('Ingresa el presupuesto de febrero: $ '))\n",
    "mar = float(input('Ingresa el presupuesto de marzo: $ '))\n",
    "\n",
    "print(f'El presupuesto promedio es $ {round(((ene + feb + mar) / 3),2)}') "
   ]
  },
  {
   "attachments": {},
   "cell_type": "markdown",
   "metadata": {},
   "source": [
    "## Booleans\n",
    "\n",
    "Solo puede ser Verdadero (`True`) o Falso (`False`)"
   ]
  },
  {
   "cell_type": "code",
   "execution_count": 14,
   "metadata": {},
   "outputs": [
    {
     "name": "stdout",
     "output_type": "stream",
     "text": [
      "True\n",
      "<class 'bool'>\n"
     ]
    }
   ],
   "source": [
    "is_single = True\n",
    "print(is_single)\n",
    "print(type(is_single))"
   ]
  },
  {
   "cell_type": "code",
   "execution_count": 15,
   "metadata": {},
   "outputs": [
    {
     "name": "stdout",
     "output_type": "stream",
     "text": [
      "False\n"
     ]
    }
   ],
   "source": [
    "# Transformandolo a lo contrario con el operador 'not'\n",
    "print(not is_single)"
   ]
  },
  {
   "cell_type": "code",
   "execution_count": 16,
   "metadata": {},
   "outputs": [
    {
     "name": "stdout",
     "output_type": "stream",
     "text": [
      "False\n"
     ]
    }
   ],
   "source": [
    "print(not True)"
   ]
  },
  {
   "cell_type": "code",
   "execution_count": 17,
   "metadata": {},
   "outputs": [
    {
     "name": "stdout",
     "output_type": "stream",
     "text": [
      "True\n"
     ]
    }
   ],
   "source": [
    "print(not False)"
   ]
  },
  {
   "attachments": {},
   "cell_type": "markdown",
   "metadata": {},
   "source": [
    "## Transformación de tipos\n",
    "\n",
    "En Python se puede cambiar el tipo de datos de manera dinamica, el solito distingue el tipo de dato, no es necesario hacer la declaración como en otros lenguajes de programación. \n",
    "\n",
    "* La función `str()` transforma al formato string\n",
    "* La función `int()` transforma al formato de número entero"
   ]
  }
 ],
 "metadata": {
  "kernelspec": {
   "display_name": "Python 3",
   "language": "python",
   "name": "python3"
  },
  "language_info": {
   "codemirror_mode": {
    "name": "ipython",
    "version": 3
   },
   "file_extension": ".py",
   "mimetype": "text/x-python",
   "name": "python",
   "nbconvert_exporter": "python",
   "pygments_lexer": "ipython3",
   "version": "3.11.0"
  },
  "orig_nbformat": 4,
  "vscode": {
   "interpreter": {
    "hash": "c261aea317cc0286b3b3261fbba9abdec21eaa57589985bb7a274bf54d6cc0a7"
   }
  }
 },
 "nbformat": 4,
 "nbformat_minor": 2
}
