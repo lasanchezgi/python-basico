{
 "cells": [
  {
   "attachments": {},
   "cell_type": "markdown",
   "metadata": {},
   "source": [
    "# Ciclos\n",
    "\n",
    "Se ejecuta un codigo repetitivamente, cierto numero de veces hasta que una condicional se cumpla o hasta que le demos una instrucción al programa para que pare"
   ]
  },
  {
   "attachments": {},
   "cell_type": "markdown",
   "metadata": {},
   "source": [
    "## While\n",
    "\n",
    "Mientras..."
   ]
  },
  {
   "cell_type": "code",
   "execution_count": 17,
   "metadata": {},
   "outputs": [
    {
     "name": "stdout",
     "output_type": "stream",
     "text": [
      "1\n",
      "2\n",
      "3\n",
      "4\n",
      "5\n",
      "6\n",
      "7\n",
      "8\n",
      "9\n",
      "10\n"
     ]
    }
   ],
   "source": [
    "counter = 0\n",
    "\n",
    "while counter < 10:\n",
    "    counter += 1\n",
    "    print(counter)"
   ]
  },
  {
   "cell_type": "code",
   "execution_count": 18,
   "metadata": {},
   "outputs": [
    {
     "name": "stdout",
     "output_type": "stream",
     "text": [
      "1\n",
      "2\n",
      "3\n",
      "4\n",
      "5\n",
      "6\n",
      "7\n",
      "8\n",
      "9\n",
      "10\n",
      "11\n",
      "12\n",
      "13\n",
      "14\n"
     ]
    }
   ],
   "source": [
    "# Para romper el ciclo de manera abrupta \n",
    "counter = 0\n",
    "\n",
    "while counter < 20:\n",
    "    counter += 1\n",
    "    if counter == 15:\n",
    "        break\n",
    "    print(counter)"
   ]
  },
  {
   "cell_type": "code",
   "execution_count": 19,
   "metadata": {},
   "outputs": [
    {
     "name": "stdout",
     "output_type": "stream",
     "text": [
      "15\n",
      "16\n",
      "17\n",
      "18\n",
      "19\n",
      "20\n"
     ]
    }
   ],
   "source": [
    "# continue --> salta automaticamente a la siguiente iteración, ignorando todo lo que hay de esas lineas para abajo\n",
    "# Va a la siguiente operación y no ejecuta nada de los que esta despues\n",
    "counter = 0\n",
    "\n",
    "while counter < 20:\n",
    "    counter += 1\n",
    "    if counter < 15:\n",
    "        continue\n",
    "    print(counter)"
   ]
  },
  {
   "attachments": {},
   "cell_type": "markdown",
   "metadata": {},
   "source": [
    "## For\n",
    "\n",
    "Se utiliza cuando se tiene un numero de iteraciones dadas"
   ]
  },
  {
   "cell_type": "code",
   "execution_count": 20,
   "metadata": {},
   "outputs": [
    {
     "name": "stdout",
     "output_type": "stream",
     "text": [
      "1\n",
      "2\n",
      "3\n",
      "4\n",
      "5\n",
      "6\n",
      "7\n",
      "8\n",
      "9\n",
      "10\n",
      "11\n",
      "12\n",
      "13\n",
      "14\n",
      "15\n",
      "16\n",
      "17\n",
      "18\n",
      "19\n",
      "20\n"
     ]
    }
   ],
   "source": [
    "for i in range(1, 21):\n",
    "    print(i)"
   ]
  },
  {
   "cell_type": "code",
   "execution_count": 21,
   "metadata": {},
   "outputs": [
    {
     "name": "stdout",
     "output_type": "stream",
     "text": [
      "23\n",
      "45\n",
      "67\n",
      "89\n",
      "43\n"
     ]
    }
   ],
   "source": [
    "lista = [23, 45, 67, 89, 43]\n",
    "for i in lista:\n",
    "    print(i)"
   ]
  },
  {
   "cell_type": "code",
   "execution_count": 22,
   "metadata": {},
   "outputs": [
    {
     "name": "stdout",
     "output_type": "stream",
     "text": [
      "52\n",
      "74\n",
      "86\n",
      "96\n"
     ]
    }
   ],
   "source": [
    "tupla = (52, 74, 86, 96)\n",
    "for i in tupla:\n",
    "    print(i)"
   ]
  },
  {
   "cell_type": "code",
   "execution_count": 23,
   "metadata": {},
   "outputs": [
    {
     "name": "stdout",
     "output_type": "stream",
     "text": [
      "96\n",
      "96\n",
      "96\n",
      "LASG : Laura Alejandra Sánchez Giraldo\n",
      "LYG : Laura Giraldo\n",
      "AMLM : Ana Sánchez\n"
     ]
    }
   ],
   "source": [
    "diccionario  = {\n",
    "    'LASG' : 'Laura Alejandra Sánchez Giraldo',\n",
    "    'LYG' : 'Laura Giraldo',\n",
    "    'AMLM' : 'Ana Sánchez' \n",
    "}\n",
    "\n",
    "for key in diccionario:\n",
    "    print(i)\n",
    "\n",
    "for key in diccionario:\n",
    "    print(key, ':', diccionario[key])"
   ]
  },
  {
   "cell_type": "code",
   "execution_count": 24,
   "metadata": {},
   "outputs": [
    {
     "name": "stdout",
     "output_type": "stream",
     "text": [
      "LASG : Laura Alejandra Sánchez Giraldo\n",
      "LYG : Laura Giraldo\n",
      "AMLM : Ana Sánchez\n"
     ]
    }
   ],
   "source": [
    "for key, value in diccionario.items():\n",
    "    print(key, ':', value)"
   ]
  },
  {
   "cell_type": "code",
   "execution_count": 25,
   "metadata": {},
   "outputs": [],
   "source": [
    "# Lista de diccionarios\n",
    "people = [\n",
    "    {\n",
    "        'name' : 'Laura',\n",
    "        'age' : 20\n",
    "    },\n",
    "    {\n",
    "        'name' : 'Ana',\n",
    "        'age' : 25\n",
    "    },\n",
    "    {\n",
    "        'name' : 'Natalia',\n",
    "        'age' : 22\n",
    "    }\n",
    "]"
   ]
  },
  {
   "cell_type": "code",
   "execution_count": 26,
   "metadata": {},
   "outputs": [
    {
     "name": "stdout",
     "output_type": "stream",
     "text": [
      "{'name': 'Laura', 'age': 20}\n",
      "{'name': 'Ana', 'age': 25}\n",
      "{'name': 'Natalia', 'age': 22}\n"
     ]
    }
   ],
   "source": [
    "for person in people:\n",
    "    print(person)"
   ]
  },
  {
   "cell_type": "code",
   "execution_count": 27,
   "metadata": {},
   "outputs": [
    {
     "name": "stdout",
     "output_type": "stream",
     "text": [
      "name:  Laura\n",
      "name:  Ana\n",
      "name:  Natalia\n"
     ]
    }
   ],
   "source": [
    "for person in people:\n",
    "    print('name: ', person['name'])"
   ]
  },
  {
   "attachments": {},
   "cell_type": "markdown",
   "metadata": {},
   "source": [
    "## Ciclos anidados\n",
    "\n",
    "Son ciclos dentro otro ciclos"
   ]
  },
  {
   "cell_type": "code",
   "execution_count": 28,
   "metadata": {},
   "outputs": [
    {
     "data": {
      "text/plain": [
       "[[1, 2, 3], [4, 5, 6], [7, 8, 9]]"
      ]
     },
     "execution_count": 28,
     "metadata": {},
     "output_type": "execute_result"
    }
   ],
   "source": [
    "# Lista con listas adentro\n",
    "matriz = [\n",
    "    [1, 2, 3], \n",
    "    [4, 5, 6], \n",
    "    [7, 8, 9]\n",
    "]\n",
    "matriz"
   ]
  },
  {
   "cell_type": "code",
   "execution_count": 29,
   "metadata": {},
   "outputs": [
    {
     "data": {
      "text/plain": [
       "[1, 2, 3]"
      ]
     },
     "execution_count": 29,
     "metadata": {},
     "output_type": "execute_result"
    }
   ],
   "source": [
    "matriz[0]"
   ]
  },
  {
   "cell_type": "code",
   "execution_count": 30,
   "metadata": {},
   "outputs": [
    {
     "data": {
      "text/plain": [
       "2"
      ]
     },
     "execution_count": 30,
     "metadata": {},
     "output_type": "execute_result"
    }
   ],
   "source": [
    "# Como coordenadas [fila][columna]\n",
    "matriz[0][1]"
   ]
  },
  {
   "cell_type": "code",
   "execution_count": 31,
   "metadata": {},
   "outputs": [
    {
     "name": "stdout",
     "output_type": "stream",
     "text": [
      "[1, 2, 3]\n",
      "[4, 5, 6]\n",
      "[7, 8, 9]\n"
     ]
    }
   ],
   "source": [
    "for element in matriz:\n",
    "    print(element)"
   ]
  },
  {
   "cell_type": "code",
   "execution_count": 32,
   "metadata": {},
   "outputs": [
    {
     "name": "stdout",
     "output_type": "stream",
     "text": [
      "1\n",
      "2\n",
      "3\n",
      "4\n",
      "5\n",
      "6\n",
      "7\n",
      "8\n",
      "9\n"
     ]
    }
   ],
   "source": [
    "for row in matriz:\n",
    "    for column in row:\n",
    "        print(column)"
   ]
  },
  {
   "attachments": {},
   "cell_type": "markdown",
   "metadata": {},
   "source": [
    "``` python\n",
    "\n",
    "import random\n",
    "\n",
    "options = ('piedra', 'papel', 'tijera')\n",
    "\n",
    "computer_wins = 0\n",
    "user_wins = 0\n",
    "\n",
    "rounds = 1\n",
    "\n",
    "while True:\n",
    "\n",
    "    print('*' * 10)\n",
    "    print('ROUND', rounds)\n",
    "    print('*' * 10)\n",
    "\n",
    "    print('computer_wins', computer_wins)\n",
    "    print('user_wins', user_wins)\n",
    "\n",
    "    user_option = input('piedra, papel o tijera => ')\n",
    "    user_option = user_option.lower()\n",
    "\n",
    "    rounds += 1\n",
    "\n",
    "    if not user_option in options:\n",
    "      print('esa opcion no es valida')\n",
    "      continue\n",
    "\n",
    "    computer_option = random.choice(options)\n",
    "\n",
    "    print('User option =>', user_option)\n",
    "    print('Computer option =>', computer_option)\n",
    "\n",
    "    if user_option == computer_option:\n",
    "        print('Empate!')\n",
    "    elif user_option == 'piedra':\n",
    "        if computer_option == 'tijera':\n",
    "            print('piedra gana a tijera')\n",
    "            print('user gano!')\n",
    "            user_wins += 1\n",
    "        else:\n",
    "            print('Papel gana a piedra')\n",
    "            print('computer gano!')\n",
    "            computer_wins += 1\n",
    "    elif user_option == 'papel':\n",
    "        if computer_option == 'piedra':\n",
    "            print('papel gana a piedra')\n",
    "            print('user gano')\n",
    "            user_wins += 1\n",
    "        else:\n",
    "            print('tijera gana a papel')\n",
    "            print('computer gano!')\n",
    "            computer_wins += 1\n",
    "    elif user_option == 'tijera':\n",
    "        if computer_option == 'papel':\n",
    "            print('tijera gana a papel')\n",
    "            print('user gano!')\n",
    "            user_wins += 1\n",
    "        else:\n",
    "            print('piedra gana a tijera')\n",
    "            print('computer gano!')\n",
    "            computer_wins += 1\n",
    "\n",
    "    if computer_wins == 2:\n",
    "      print('El ganador es la computadora')\n",
    "      break\n",
    "\n",
    "    if user_wins == 2:\n",
    "      print('El ganador es el usuario')\n",
    "      break\n",
    "``` "
   ]
  }
 ],
 "metadata": {
  "kernelspec": {
   "display_name": "Python 3",
   "language": "python",
   "name": "python3"
  },
  "language_info": {
   "codemirror_mode": {
    "name": "ipython",
    "version": 3
   },
   "file_extension": ".py",
   "mimetype": "text/x-python",
   "name": "python",
   "nbconvert_exporter": "python",
   "pygments_lexer": "ipython3",
   "version": "3.11.0"
  },
  "orig_nbformat": 4,
  "vscode": {
   "interpreter": {
    "hash": "c261aea317cc0286b3b3261fbba9abdec21eaa57589985bb7a274bf54d6cc0a7"
   }
  }
 },
 "nbformat": 4,
 "nbformat_minor": 2
}
