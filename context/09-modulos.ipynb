{
 "cells": [
  {
   "attachments": {},
   "cell_type": "markdown",
   "metadata": {},
   "source": [
    "# Módulos\n",
    "\n",
    "Permiten modulizar la aplicación y encerrar cierta parte de la aplicación y logica en diferentes archivos.\n",
    "\n",
    "Un modulo en Python puede ser un archivo .py\n",
    "\n",
    "Python como lenguaje ya viene con varios modulos"
   ]
  },
  {
   "cell_type": "code",
   "execution_count": 1,
   "metadata": {},
   "outputs": [
    {
     "name": "stdout",
     "output_type": "stream",
     "text": [
      "['C:\\\\Python311\\\\python311.zip', 'C:\\\\Python311\\\\DLLs', 'C:\\\\Python311\\\\Lib', 'C:\\\\Python311', 'c:\\\\Users\\\\usuario\\\\Desktop\\\\DS\\\\1-python\\\\.venv', '', 'c:\\\\Users\\\\usuario\\\\Desktop\\\\DS\\\\1-python\\\\.venv\\\\Lib\\\\site-packages', 'c:\\\\Users\\\\usuario\\\\Desktop\\\\DS\\\\1-python\\\\.venv\\\\Lib\\\\site-packages\\\\win32', 'c:\\\\Users\\\\usuario\\\\Desktop\\\\DS\\\\1-python\\\\.venv\\\\Lib\\\\site-packages\\\\win32\\\\lib', 'c:\\\\Users\\\\usuario\\\\Desktop\\\\DS\\\\1-python\\\\.venv\\\\Lib\\\\site-packages\\\\Pythonwin']\n"
     ]
    }
   ],
   "source": [
    "# Para preguntar por el sistema operativo\n",
    "import sys\n",
    "print(sys.path)"
   ]
  },
  {
   "cell_type": "code",
   "execution_count": 2,
   "metadata": {},
   "outputs": [
    {
     "name": "stdout",
     "output_type": "stream",
     "text": [
      "['850', '456', '5556', '57', '1598']\n"
     ]
    }
   ],
   "source": [
    "# Expresiones regulares\n",
    "import re\n",
    "texto = 'Mi número de telefono 850 456 5556 y el codigo es +57 y mi número de la suerte es 1598'\n",
    "resultado = re.findall('[0-9]+', texto)\n",
    "print(resultado)"
   ]
  },
  {
   "cell_type": "code",
   "execution_count": 3,
   "metadata": {},
   "outputs": [
    {
     "name": "stdout",
     "output_type": "stream",
     "text": [
      "1715632034.417962\n",
      "Mon May 13 15:27:14 2024\n"
     ]
    }
   ],
   "source": [
    "# Manejo de horas y fechas\n",
    "import time\n",
    "timestamp = time.time()\n",
    "print(timestamp)\n",
    "local = time.localtime()\n",
    "resultado = time.asctime(local)\n",
    "print(resultado)"
   ]
  },
  {
   "cell_type": "code",
   "execution_count": 4,
   "metadata": {},
   "outputs": [
    {
     "name": "stdout",
     "output_type": "stream",
     "text": [
      "Counter({1: 3, 5: 2, 4: 1, 6: 1, 7: 1})\n"
     ]
    }
   ],
   "source": [
    "# Manejo de listas\n",
    "import collections\n",
    "numbers = [1,1,1,5,4,6,7,5]\n",
    "# Nos da la frecuencia de los elementos en una lista\n",
    "counter = collections.Counter(numbers)\n",
    "print(counter)"
   ]
  },
  {
   "attachments": {},
   "cell_type": "markdown",
   "metadata": {},
   "source": [
    "## Mis propios modulos\n",
    "\n",
    "Es cualquier archivo terminado .py se considera como un modulo\n",
    "\n",
    "Dentro de un modulo se pueden definir funciones, clases o variables"
   ]
  },
  {
   "attachments": {},
   "cell_type": "markdown",
   "metadata": {},
   "source": [
    "## Modulos como scripts: __name__ y __main__\n",
    "\n",
    "Los modulos en Python se pueden correr de dos maneras:\n",
    "\n",
    "1. Declarando las funciones dentro de ese modulo (las funciones se corren importandolas desde otro archivo)\n",
    "2. De manera directa, como scripts (desde la terminal)\n",
    "\n",
    "Esta dualidad puede generar problemas, se puede adecuar el archivo para que quede bien al correrlo desde otro archivo y tambien desde la terminal"
   ]
  },
  {
   "attachments": {},
   "cell_type": "markdown",
   "metadata": {},
   "source": [
    "## Paquetes\n",
    "\n",
    "Un paquete en Python es una carpeta que tiene varios modulos"
   ]
  }
 ],
 "metadata": {
  "kernelspec": {
   "display_name": "Python 3",
   "language": "python",
   "name": "python3"
  },
  "language_info": {
   "codemirror_mode": {
    "name": "ipython",
    "version": 3
   },
   "file_extension": ".py",
   "mimetype": "text/x-python",
   "name": "python",
   "nbconvert_exporter": "python",
   "pygments_lexer": "ipython3",
   "version": "3.11.0"
  },
  "orig_nbformat": 4,
  "vscode": {
   "interpreter": {
    "hash": "c261aea317cc0286b3b3261fbba9abdec21eaa57589985bb7a274bf54d6cc0a7"
   }
  }
 },
 "nbformat": 4,
 "nbformat_minor": 2
}
