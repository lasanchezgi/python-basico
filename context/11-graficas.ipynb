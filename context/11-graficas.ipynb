{
 "cells": [
  {
   "attachments": {},
   "cell_type": "markdown",
   "metadata": {},
   "source": [
    "# Gráficas\n",
    "\n",
    "\n",
    "**Matplotlib** Visualización de datos (Data Science y Web Develop)\n",
    "\n",
    "\n",
    "## Generando graficas"
   ]
  },
  {
   "cell_type": "code",
   "execution_count": 1,
   "metadata": {},
   "outputs": [],
   "source": [
    "import matplotlib.pyplot as plt\n",
    "\n",
    "def generate_bar_chart():\n",
    "    labels = ['a', 'b', 'c']\n",
    "    values = [100, 200, 80]\n",
    "\n",
    "    fig, ax = plt.subplot()\n",
    "    ax.bar(labels, values)\n",
    "    plt.show()\n",
    "\n",
    "if __name__ == 'main':\n",
    "    generate_bar_chart()"
   ]
  },
  {
   "cell_type": "code",
   "execution_count": 2,
   "metadata": {},
   "outputs": [],
   "source": [
    "import matplotlib.pyplot as plt\n",
    "\n",
    "def generate_bar_chart(labels, values):\n",
    "    fig, ax = plt.subplot()\n",
    "    ax.bar(labels, values)\n",
    "    plt.show()\n",
    "\n",
    "if __name__ == 'main':\n",
    "    labels = ['a', 'b', 'c']\n",
    "    values = [500, 220, 50]\n",
    "\n",
    "    generate_bar_chart(labels, values)"
   ]
  },
  {
   "cell_type": "code",
   "execution_count": 3,
   "metadata": {},
   "outputs": [],
   "source": [
    "import matplotlib.pyplot as plt\n",
    "\n",
    "def generate_bar_chart(labels, values):\n",
    "    fig, ax = plt.subplot()\n",
    "    ax.bar(labels, values)\n",
    "    plt.show()\n",
    "\n",
    "def generate_pie_chart(labels, values):\n",
    "    fig, ax = plt.subplots()\n",
    "    ax.pie(values, labels = labels)\n",
    "    ax.axis('equal')\n",
    "    plt.show()\n",
    "\n",
    "if __name__ == 'main':\n",
    "    labels = ['a', 'b', 'c']\n",
    "    values = [500, 220, 50]\n",
    "\n",
    "    generate_bar_chart(labels, values)\n",
    "    generate_pie_chart(labels, values)\n"
   ]
  },
  {
   "attachments": {},
   "cell_type": "markdown",
   "metadata": {},
   "source": [
    "## Reto: graficando la población de un pais"
   ]
  },
  {
   "attachments": {},
   "cell_type": "markdown",
   "metadata": {},
   "source": [
    "## Reto: graficando la población mundial"
   ]
  },
  {
   "cell_type": "code",
   "execution_count": 4,
   "metadata": {},
   "outputs": [
    {
     "name": "stdout",
     "output_type": "stream",
     "text": [
      "3\n",
      "7\n"
     ]
    }
   ],
   "source": [
    "def sum(a,b):\n",
    "    result = a + b\n",
    "    print(result)\n",
    "    return result\n",
    "\n",
    "sum_set = set()\n",
    "\n",
    "sum_set.add(sum(1,2))\n",
    "sum_set.add(sum(3,4))"
   ]
  },
  {
   "cell_type": "code",
   "execution_count": 5,
   "metadata": {},
   "outputs": [
    {
     "name": "stdout",
     "output_type": "stream",
     "text": [
      "3\n",
      "7\n"
     ]
    }
   ],
   "source": [
    "def sum(a,b):\n",
    "    result = a + b\n",
    "    print(result)\n",
    "\n",
    "sum_set = set()\n",
    "\n",
    "sum_set.add(sum(1,2))\n",
    "sum_set.add(sum(3,4))"
   ]
  },
  {
   "cell_type": "code",
   "execution_count": 6,
   "metadata": {},
   "outputs": [],
   "source": [
    "n = []\n",
    "for i in range(1,6):\n",
    "    if i <= 2:\n",
    "        n.append(i-1)"
   ]
  },
  {
   "cell_type": "code",
   "execution_count": 7,
   "metadata": {},
   "outputs": [
    {
     "data": {
      "text/plain": [
       "[0, 1]"
      ]
     },
     "execution_count": 7,
     "metadata": {},
     "output_type": "execute_result"
    }
   ],
   "source": [
    "n"
   ]
  },
  {
   "cell_type": "code",
   "execution_count": 8,
   "metadata": {},
   "outputs": [
    {
     "data": {
      "text/plain": [
       "[0, 1]"
      ]
     },
     "execution_count": 8,
     "metadata": {},
     "output_type": "execute_result"
    }
   ],
   "source": [
    "[i - 1 for i in range(1,6) if i <=2]"
   ]
  },
  {
   "cell_type": "code",
   "execution_count": 9,
   "metadata": {},
   "outputs": [
    {
     "name": "stdout",
     "output_type": "stream",
     "text": [
      "0\n",
      "1\n"
     ]
    }
   ],
   "source": [
    "for i in range(1, 6):\n",
    "    if i <= 2:\n",
    "        # Your code here\n",
    "        print(i-1)"
   ]
  },
  {
   "cell_type": "code",
   "execution_count": 10,
   "metadata": {},
   "outputs": [],
   "source": [
    "for i in range(1,6):\n",
    "    if i <= 2:\n",
    "        i-1"
   ]
  },
  {
   "cell_type": "code",
   "execution_count": 11,
   "metadata": {},
   "outputs": [
    {
     "name": "stdout",
     "output_type": "stream",
     "text": [
      "{'Ana', 'Laura'}\n"
     ]
    }
   ],
   "source": [
    "names = {'Laura', 'Ana'}\n",
    "print(names)"
   ]
  },
  {
   "cell_type": "code",
   "execution_count": 12,
   "metadata": {},
   "outputs": [],
   "source": [
    "sum = lambda x, y : x + y"
   ]
  },
  {
   "cell_type": "code",
   "execution_count": 13,
   "metadata": {},
   "outputs": [
    {
     "data": {
      "text/plain": [
       "3"
      ]
     },
     "execution_count": 13,
     "metadata": {},
     "output_type": "execute_result"
    }
   ],
   "source": [
    "sum(1,2)"
   ]
  },
  {
   "cell_type": "code",
   "execution_count": 14,
   "metadata": {},
   "outputs": [
    {
     "name": "stdout",
     "output_type": "stream",
     "text": [
      "{1}\n"
     ]
    }
   ],
   "source": [
    "a = {1,2}\n",
    "b = {2,3}\n",
    "print(a-b)"
   ]
  }
 ],
 "metadata": {
  "kernelspec": {
   "display_name": "Python 3",
   "language": "python",
   "name": "python3"
  },
  "language_info": {
   "codemirror_mode": {
    "name": "ipython",
    "version": 3
   },
   "file_extension": ".py",
   "mimetype": "text/x-python",
   "name": "python",
   "nbconvert_exporter": "python",
   "pygments_lexer": "ipython3",
   "version": "3.11.0"
  },
  "orig_nbformat": 4,
  "vscode": {
   "interpreter": {
    "hash": "c261aea317cc0286b3b3261fbba9abdec21eaa57589985bb7a274bf54d6cc0a7"
   }
  }
 },
 "nbformat": 4,
 "nbformat_minor": 2
}
