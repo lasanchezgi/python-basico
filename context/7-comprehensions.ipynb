{
 "cells": [
  {
   "attachments": {},
   "cell_type": "markdown",
   "metadata": {},
   "source": [
    "# Comprehensions"
   ]
  },
  {
   "attachments": {},
   "cell_type": "markdown",
   "metadata": {},
   "source": [
    "## List comprehension\n",
    "\n",
    "Se refiere a hacer listas con una sintaxis más corta y por ende más facil de leer.\n",
    "\n",
    "```\n",
    "[element for element in iterable]\n",
    "```\n",
    "\n",
    "Se define la lista con [ ]\n",
    "\n",
    "Elemento | Ciclo donde se extraen elementos de cualquier iterable\n",
    "\n",
    "La primera parte de esa sintaxis es el elemento que queremos que sea parte de esa lista, ese elemento lo obtenemos de un ciclo **for** en el cual vamos a iterar cualquier estructura de datos que tengamos definida (lista, conjunto, tupla)\n",
    "\n",
    "Para agregarle una condición\n",
    "\n",
    "```\n",
    "[element for element in iterable if condition]\n",
    "```\n",
    "\n",
    "Elemento | Ciclo donde se extraen elementos de cualquier iterable | Condición opcional para filtrar elementos"
   ]
  },
  {
   "cell_type": "code",
   "execution_count": 1,
   "metadata": {},
   "outputs": [
    {
     "name": "stdout",
     "output_type": "stream",
     "text": [
      "[1, 2, 3, 4, 5, 6, 7, 8, 9, 10]\n"
     ]
    }
   ],
   "source": [
    "numbers = []\n",
    "for element in range(1,11):\n",
    "    numbers.append(element)\n",
    "print(numbers)"
   ]
  },
  {
   "cell_type": "code",
   "execution_count": 2,
   "metadata": {},
   "outputs": [
    {
     "name": "stdout",
     "output_type": "stream",
     "text": [
      "[1, 2, 3, 4, 5, 6, 7, 8, 9, 10]\n"
     ]
    }
   ],
   "source": [
    "# List comprehension\n",
    "numbers_lc = [element for element in range(1,11)]\n",
    "print(numbers_lc)"
   ]
  },
  {
   "cell_type": "code",
   "execution_count": 3,
   "metadata": {},
   "outputs": [
    {
     "data": {
      "text/plain": [
       "True"
      ]
     },
     "execution_count": 3,
     "metadata": {},
     "output_type": "execute_result"
    }
   ],
   "source": [
    "numbers == numbers_lc"
   ]
  },
  {
   "cell_type": "code",
   "execution_count": 4,
   "metadata": {},
   "outputs": [
    {
     "name": "stdout",
     "output_type": "stream",
     "text": [
      "[2, 4, 6, 8, 10, 12, 14, 16, 18, 20]\n"
     ]
    }
   ],
   "source": [
    "numbers_lc = [element * 2 for element in range(1,11)]\n",
    "print(numbers_lc)"
   ]
  },
  {
   "cell_type": "code",
   "execution_count": 5,
   "metadata": {},
   "outputs": [
    {
     "name": "stdout",
     "output_type": "stream",
     "text": [
      "[4, 8, 12, 16, 20, 24, 28, 32, 36, 40, 44, 48, 52, 56, 60, 64, 68, 72, 76, 80, 84, 88, 92, 96, 100, 104, 108, 112, 116, 120, 124, 128, 132, 136, 140, 144, 148, 152, 156, 160, 164, 168, 172, 176, 180, 184, 188, 192, 196, 200]\n"
     ]
    }
   ],
   "source": [
    "# Una lista del 1 al 100 solo con los números pares\n",
    "numbers = []\n",
    "for i in range(1, 101):\n",
    "    if i % 2 == 0:\n",
    "        numbers.append(i * 2)\n",
    "print(numbers)"
   ]
  },
  {
   "cell_type": "code",
   "execution_count": 6,
   "metadata": {},
   "outputs": [
    {
     "name": "stdout",
     "output_type": "stream",
     "text": [
      "[4, 8, 12, 16, 20, 24, 28, 32, 36, 40, 44, 48, 52, 56, 60, 64, 68, 72, 76, 80, 84, 88, 92, 96, 100, 104, 108, 112, 116, 120, 124, 128, 132, 136, 140, 144, 148, 152, 156, 160, 164, 168, 172, 176, 180, 184, 188, 192, 196, 200]\n"
     ]
    }
   ],
   "source": [
    "numbers = [i * 2 for i in range(1, 101) if i % 2 == 0]\n",
    "print(numbers)"
   ]
  },
  {
   "attachments": {},
   "cell_type": "markdown",
   "metadata": {},
   "source": [
    "## Dictionary comprehension\n",
    "\n",
    "Es una forma sintatica de agregar y generar diccionarios\n",
    "\n",
    "```\n",
    "{key : value for var in iterable}\n",
    "```\n",
    "\n",
    "Se define con { }\n",
    "\n",
    "Elemento llave-valor | Ciclo donde se extraen elementos de cualquier iterable"
   ]
  },
  {
   "cell_type": "code",
   "execution_count": 7,
   "metadata": {},
   "outputs": [
    {
     "name": "stdout",
     "output_type": "stream",
     "text": [
      "{1: 2, 2: 4, 3: 6, 4: 8, 5: 10}\n"
     ]
    }
   ],
   "source": [
    "dict = {}\n",
    "for i in range(1, 6):\n",
    "    dict[i] = i * 2\n",
    "print(dict)"
   ]
  },
  {
   "cell_type": "code",
   "execution_count": 8,
   "metadata": {},
   "outputs": [
    {
     "name": "stdout",
     "output_type": "stream",
     "text": [
      "{1: 2, 2: 4, 3: 6, 4: 8, 5: 10}\n"
     ]
    }
   ],
   "source": [
    "# Con una sintaxis más corta\n",
    "dict = {i : i*2 for i in range(1,6)}\n",
    "print(dict)"
   ]
  },
  {
   "cell_type": "code",
   "execution_count": 9,
   "metadata": {},
   "outputs": [
    {
     "name": "stdout",
     "output_type": "stream",
     "text": [
      "{'Colombia': 12, 'Mexico': 41, 'Bolivia': 80, 'Peru': 58}\n"
     ]
    }
   ],
   "source": [
    "# Generando un diccionario a partir de una lista\n",
    "countries = ['Colombia', 'Mexico', 'Bolivia', 'Peru']\n",
    "population = {}\n",
    "\n",
    "import random\n",
    "\n",
    "for country in countries:\n",
    "    population[country] = random.randint(1,100)\n",
    "print(population)"
   ]
  },
  {
   "cell_type": "code",
   "execution_count": 10,
   "metadata": {},
   "outputs": [
    {
     "name": "stdout",
     "output_type": "stream",
     "text": [
      "{'Colombia': 99, 'Mexico': 13, 'Bolivia': 6, 'Peru': 84}\n"
     ]
    }
   ],
   "source": [
    "dict_1 = {country : random.randint(1,100) for country in countries}\n",
    "print(dict_1)"
   ]
  },
  {
   "cell_type": "code",
   "execution_count": 11,
   "metadata": {},
   "outputs": [],
   "source": [
    "names = ['Laura', 'Alejandra', 'Ana']\n",
    "ages = [20, 22, 30]"
   ]
  },
  {
   "cell_type": "code",
   "execution_count": 12,
   "metadata": {},
   "outputs": [
    {
     "name": "stdout",
     "output_type": "stream",
     "text": [
      "[('Laura', 20), ('Alejandra', 22), ('Ana', 30)]\n"
     ]
    }
   ],
   "source": [
    "# Uniendo dos lista con la funcion zip \n",
    "# Hace una lista de tuplas \n",
    "print(list(zip(names, ages)))"
   ]
  },
  {
   "cell_type": "code",
   "execution_count": 13,
   "metadata": {},
   "outputs": [
    {
     "data": {
      "text/plain": [
       "zip"
      ]
     },
     "execution_count": 13,
     "metadata": {},
     "output_type": "execute_result"
    }
   ],
   "source": [
    "type(zip(names, ages))"
   ]
  },
  {
   "cell_type": "code",
   "execution_count": 14,
   "metadata": {},
   "outputs": [
    {
     "name": "stdout",
     "output_type": "stream",
     "text": [
      "{'Laura': 20, 'Alejandra': 22, 'Ana': 30}\n"
     ]
    }
   ],
   "source": [
    "dict_2 = {name : age for (name, age) in zip(names, ages)}\n",
    "print(dict_2)"
   ]
  },
  {
   "attachments": {},
   "cell_type": "markdown",
   "metadata": {},
   "source": [
    "### Condition\n",
    "\n",
    "```\n",
    "{key : value for var in iterable if condition}\n",
    "```\n",
    "\n",
    "Elmento llave-valor | Ciclo donde se extraen elementos de cualquier iterable | Condición opcional para filtrar elementos"
   ]
  },
  {
   "cell_type": "code",
   "execution_count": 15,
   "metadata": {},
   "outputs": [
    {
     "name": "stdout",
     "output_type": "stream",
     "text": [
      "{'Colombia': 11, 'Mexico': 42, 'Bolivia': 16, 'Peru': 65}\n"
     ]
    }
   ],
   "source": [
    "import random\n",
    "\n",
    "countries = ['Colombia', 'Mexico', 'Bolivia', 'Peru']\n",
    "\n",
    "population = {country : random.randint(1,100) for country in countries}\n",
    "print(population)"
   ]
  },
  {
   "cell_type": "code",
   "execution_count": 16,
   "metadata": {},
   "outputs": [
    {
     "name": "stdout",
     "output_type": "stream",
     "text": [
      "{'Mexico': 42, 'Peru': 65}\n"
     ]
    }
   ],
   "source": [
    "result = {country : population for (country, population) in population.items() if population > 20}\n",
    "print(result)"
   ]
  },
  {
   "cell_type": "code",
   "execution_count": 17,
   "metadata": {},
   "outputs": [
    {
     "name": "stdout",
     "output_type": "stream",
     "text": [
      "{'o': 'O', 'a': 'A', 'u': 'U'}\n"
     ]
    }
   ],
   "source": [
    "text = 'Hola, soy Laura'\n",
    "unique = {vowel : vowel.upper() for vowel in text if vowel in 'aeiou'}\n",
    "print(unique)"
   ]
  },
  {
   "cell_type": "code",
   "execution_count": 18,
   "metadata": {},
   "outputs": [],
   "source": [
    "# El diccionario con la frecuencia de las vocales en una cadena de etxto"
   ]
  },
  {
   "attachments": {},
   "cell_type": "markdown",
   "metadata": {},
   "source": [
    "## Lists vs. Tuples vs. Sets\n",
    "\n",
    "| Agrupacion | Mutable | Ordenada | Indexing/Slicing | Duplicar elementos |\n",
    "| --- | --- | --- | --- | --- |\n",
    "| Lista | Si | Si | Si | Si |\n",
    "| Tupla | No | Si | Si | Si |\n",
    "| Set | Si | No | No | No |"
   ]
  }
 ],
 "metadata": {
  "kernelspec": {
   "display_name": "Python 3",
   "language": "python",
   "name": "python3"
  },
  "language_info": {
   "codemirror_mode": {
    "name": "ipython",
    "version": 3
   },
   "file_extension": ".py",
   "mimetype": "text/x-python",
   "name": "python",
   "nbconvert_exporter": "python",
   "pygments_lexer": "ipython3",
   "version": "3.11.0"
  },
  "orig_nbformat": 4,
  "vscode": {
   "interpreter": {
    "hash": "c261aea317cc0286b3b3261fbba9abdec21eaa57589985bb7a274bf54d6cc0a7"
   }
  }
 },
 "nbformat": 4,
 "nbformat_minor": 2
}
