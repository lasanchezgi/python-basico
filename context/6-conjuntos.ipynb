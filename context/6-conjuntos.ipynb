{
 "cells": [
  {
   "attachments": {},
   "cell_type": "markdown",
   "metadata": {},
   "source": [
    "# Zen de Python\n",
    "\n",
    "Es la filosofia con la cual se construye y se utiliza el lenguaje"
   ]
  },
  {
   "cell_type": "code",
   "execution_count": 1,
   "metadata": {},
   "outputs": [
    {
     "name": "stdout",
     "output_type": "stream",
     "text": [
      "The Zen of Python, by Tim Peters\n",
      "\n",
      "Beautiful is better than ugly.\n",
      "Explicit is better than implicit.\n",
      "Simple is better than complex.\n",
      "Complex is better than complicated.\n",
      "Flat is better than nested.\n",
      "Sparse is better than dense.\n",
      "Readability counts.\n",
      "Special cases aren't special enough to break the rules.\n",
      "Although practicality beats purity.\n",
      "Errors should never pass silently.\n",
      "Unless explicitly silenced.\n",
      "In the face of ambiguity, refuse the temptation to guess.\n",
      "There should be one-- and preferably only one --obvious way to do it.\n",
      "Although that way may not be obvious at first unless you're Dutch.\n",
      "Now is better than never.\n",
      "Although never is often better than *right* now.\n",
      "If the implementation is hard to explain, it's a bad idea.\n",
      "If the implementation is easy to explain, it may be a good idea.\n",
      "Namespaces are one honking great idea -- let's do more of those!\n"
     ]
    }
   ],
   "source": [
    "import this"
   ]
  },
  {
   "attachments": {},
   "cell_type": "markdown",
   "metadata": {},
   "source": [
    "# Conjuntos\n",
    "\n",
    "Un conjunto agrupa elementos que tienen algún en común. \n",
    "\n",
    "Propiedades de los conjuntos:\n",
    "\n",
    "* Se permiten modificar\n",
    "* NO tiene orden\n",
    "* NO permiten duplicados"
   ]
  },
  {
   "attachments": {},
   "cell_type": "markdown",
   "metadata": {},
   "source": [
    "## Sets\n",
    "\n",
    "Se define con {} pero NO es diccionario, sin embargo no va a tener un par clave valor, sino que directamente va a tener los elementos"
   ]
  },
  {
   "cell_type": "code",
   "execution_count": 2,
   "metadata": {},
   "outputs": [
    {
     "name": "stdout",
     "output_type": "stream",
     "text": [
      "{'Colombia', 'Mexico', 'Bolivia'}\n",
      "<class 'set'>\n"
     ]
    }
   ],
   "source": [
    "set_countries = {'Colombia', 'Mexico', 'Bolivia'}\n",
    "print(set_countries)\n",
    "print(type(set_countries))"
   ]
  },
  {
   "cell_type": "code",
   "execution_count": 3,
   "metadata": {},
   "outputs": [
    {
     "name": "stdout",
     "output_type": "stream",
     "text": [
      "{1, 2, 3, 4, 5}\n",
      "<class 'set'>\n"
     ]
    }
   ],
   "source": [
    "set_numbers = {1, 2, 3, 4, 5}\n",
    "print(set_numbers)\n",
    "print(type(set_numbers))"
   ]
  },
  {
   "cell_type": "code",
   "execution_count": 4,
   "metadata": {},
   "outputs": [
    {
     "name": "stdout",
     "output_type": "stream",
     "text": [
      "{False, 1, 'Holi', 12.15}\n",
      "<class 'set'>\n"
     ]
    }
   ],
   "source": [
    "set_types = {1, 'Holi', False, 12.15}\n",
    "print(set_types)\n",
    "print(type(set_numbers))"
   ]
  },
  {
   "cell_type": "code",
   "execution_count": 5,
   "metadata": {},
   "outputs": [
    {
     "name": "stdout",
     "output_type": "stream",
     "text": [
      "{'o', 'i', 'H', 'l'}\n",
      "<class 'set'>\n"
     ]
    }
   ],
   "source": [
    "# Función para general un conjunto a partir de un string\n",
    "set_from_string = set('Holi')\n",
    "print(set_from_string)\n",
    "print(type(set_from_string))"
   ]
  },
  {
   "cell_type": "code",
   "execution_count": 6,
   "metadata": {},
   "outputs": [
    {
     "name": "stdout",
     "output_type": "stream",
     "text": [
      "{'hij', 'klm', 'abc', 'dfg'}\n",
      "<class 'set'>\n"
     ]
    }
   ],
   "source": [
    "# Cojunto a partir de una tupla\n",
    "set_from_tuple = set(('abc', 'dfg', 'hij', 'klm'))\n",
    "print(set_from_tuple)\n",
    "print(type(set_from_tuple))"
   ]
  },
  {
   "cell_type": "code",
   "execution_count": 7,
   "metadata": {},
   "outputs": [
    {
     "name": "stdout",
     "output_type": "stream",
     "text": [
      "{1, 2, 4, 5, 6, 7, 9, 25}\n",
      "<class 'set'>\n"
     ]
    }
   ],
   "source": [
    "# Conjunto a partir de una lista\n",
    "numbers = [1,25,4,2,1,5,9,7,5,6]\n",
    "set_numbers = set(numbers)\n",
    "print(set_numbers)\n",
    "print(type(set_numbers))"
   ]
  },
  {
   "cell_type": "code",
   "execution_count": 8,
   "metadata": {},
   "outputs": [
    {
     "name": "stdout",
     "output_type": "stream",
     "text": [
      "[1, 2, 4, 5, 6, 7, 9, 25]\n",
      "<class 'list'>\n"
     ]
    }
   ],
   "source": [
    "# De conjunto a lista\n",
    "unique_numbers = list(set_numbers)\n",
    "print(unique_numbers)\n",
    "print(type(unique_numbers))"
   ]
  },
  {
   "attachments": {},
   "cell_type": "markdown",
   "metadata": {},
   "source": [
    "## Modificando conjuntos"
   ]
  },
  {
   "cell_type": "code",
   "execution_count": 9,
   "metadata": {},
   "outputs": [],
   "source": [
    "set_countries = {'Colombia', 'Mexico', 'Bolivia'}"
   ]
  },
  {
   "cell_type": "code",
   "execution_count": 10,
   "metadata": {},
   "outputs": [
    {
     "name": "stdout",
     "output_type": "stream",
     "text": [
      "3\n",
      "<class 'int'>\n"
     ]
    }
   ],
   "source": [
    "# Tamaño del conjunto\n",
    "size = len(set_countries)\n",
    "print(size)\n",
    "print(type(size))"
   ]
  },
  {
   "cell_type": "code",
   "execution_count": 11,
   "metadata": {},
   "outputs": [
    {
     "name": "stdout",
     "output_type": "stream",
     "text": [
      "True\n",
      "False\n"
     ]
    }
   ],
   "source": [
    "# Preguntar por un elemento\n",
    "print('Colombia' in set_countries)\n",
    "print('Peru' in set_countries)"
   ]
  },
  {
   "cell_type": "code",
   "execution_count": 12,
   "metadata": {},
   "outputs": [
    {
     "name": "stdout",
     "output_type": "stream",
     "text": [
      "{'Colombia', 'Mexico', 'Peru', 'Bolivia'}\n"
     ]
    }
   ],
   "source": [
    "# Agregar elementos al conjunto\n",
    "set_countries.add('Peru')\n",
    "print(set_countries)"
   ]
  },
  {
   "cell_type": "code",
   "execution_count": 13,
   "metadata": {},
   "outputs": [
    {
     "name": "stdout",
     "output_type": "stream",
     "text": [
      "{'Peru', 'Colombia', 'Ecuador', 'Mexico', 'Argentina', 'Bolivia'}\n"
     ]
    }
   ],
   "source": [
    "#Actualizar el conjunto (agregado otro conjunto)\n",
    "set_countries.update({'Argentina', 'Ecuador'})\n",
    "print(set_countries)"
   ]
  },
  {
   "cell_type": "code",
   "execution_count": 14,
   "metadata": {},
   "outputs": [
    {
     "name": "stdout",
     "output_type": "stream",
     "text": [
      "{'Colombia', 'Ecuador', 'Mexico', 'Argentina', 'Bolivia'}\n"
     ]
    }
   ],
   "source": [
    "# Eliminar elementos del conjunto\n",
    "set_countries.remove('Peru')\n",
    "print(set_countries)"
   ]
  },
  {
   "cell_type": "code",
   "execution_count": 15,
   "metadata": {},
   "outputs": [],
   "source": [
    "# Si se trata de eliminar un elemento que NO existe en el conjunto, lanza un error\n",
    "#set_countries.remove('Venezuela')\n",
    "#print(set_countries)\n",
    "#KeyError: 'Venezuela'"
   ]
  },
  {
   "cell_type": "code",
   "execution_count": 16,
   "metadata": {},
   "outputs": [
    {
     "name": "stdout",
     "output_type": "stream",
     "text": [
      "{'Colombia', 'Ecuador', 'Mexico', 'Argentina', 'Bolivia'}\n"
     ]
    }
   ],
   "source": [
    "# Para eliminar un elemento de un conjunto, en caso de no estar en el conjunto, no genera un error\n",
    "set_countries.discard('Venezuela')\n",
    "print(set_countries)"
   ]
  },
  {
   "cell_type": "code",
   "execution_count": 17,
   "metadata": {},
   "outputs": [
    {
     "name": "stdout",
     "output_type": "stream",
     "text": [
      "set()\n"
     ]
    }
   ],
   "source": [
    "# Eliminar todos los elementos de un conjunto --> Devuelve un set en vacio\n",
    "set_countries.clear()\n",
    "print(set_countries)"
   ]
  },
  {
   "attachments": {},
   "cell_type": "markdown",
   "metadata": {},
   "source": [
    "## Operaciones con conjuntos"
   ]
  },
  {
   "cell_type": "code",
   "execution_count": 18,
   "metadata": {},
   "outputs": [],
   "source": [
    "set_a = {'Colombia', 'Mexico', 'Bolivia'}\n",
    "set_b = {'Peru', 'Bolivia'}"
   ]
  },
  {
   "cell_type": "code",
   "execution_count": 19,
   "metadata": {},
   "outputs": [
    {
     "name": "stdout",
     "output_type": "stream",
     "text": [
      "{'Peru', 'Colombia', 'Mexico', 'Bolivia'}\n"
     ]
    }
   ],
   "source": [
    "# UNIÓN entre conjuntos con el metodo union()\n",
    "set_c = set_a.union(set_b)\n",
    "print(set_c)"
   ]
  },
  {
   "cell_type": "code",
   "execution_count": 20,
   "metadata": {},
   "outputs": [
    {
     "name": "stdout",
     "output_type": "stream",
     "text": [
      "{'Peru', 'Colombia', 'Mexico', 'Bolivia'}\n"
     ]
    }
   ],
   "source": [
    "#UNIÓN entre conjuntos con el operador | \n",
    "print(set_a | set_b)"
   ]
  },
  {
   "cell_type": "code",
   "execution_count": 21,
   "metadata": {},
   "outputs": [
    {
     "name": "stdout",
     "output_type": "stream",
     "text": [
      "{'Bolivia'}\n"
     ]
    }
   ],
   "source": [
    "# INTERSECCIÓN entre conjuntos con el metodo intersection()\n",
    "set_d = set_a.intersection(set_b)\n",
    "print(set_d)\n"
   ]
  },
  {
   "cell_type": "code",
   "execution_count": 22,
   "metadata": {},
   "outputs": [
    {
     "name": "stdout",
     "output_type": "stream",
     "text": [
      "{'Bolivia'}\n"
     ]
    }
   ],
   "source": [
    "# INTERSECCIÓN entre conjuntos con el operador &\n",
    "print(set_a & set_b)"
   ]
  },
  {
   "cell_type": "code",
   "execution_count": 23,
   "metadata": {},
   "outputs": [
    {
     "name": "stdout",
     "output_type": "stream",
     "text": [
      "{'Colombia', 'Mexico'}\n"
     ]
    }
   ],
   "source": [
    "# DIFERENCIA (Quitando los elementos de B en A) con el metodo difference()\n",
    "set_e = set_a.difference(set_b)\n",
    "print(set_e)"
   ]
  },
  {
   "cell_type": "code",
   "execution_count": 24,
   "metadata": {},
   "outputs": [
    {
     "name": "stdout",
     "output_type": "stream",
     "text": [
      "{'Colombia', 'Mexico'}\n"
     ]
    }
   ],
   "source": [
    "# DIFERENCIA entre conjuntos con el operador -\n",
    "print(set_a - set_b)"
   ]
  },
  {
   "cell_type": "code",
   "execution_count": 25,
   "metadata": {},
   "outputs": [
    {
     "name": "stdout",
     "output_type": "stream",
     "text": [
      "{'Peru'}\n"
     ]
    }
   ],
   "source": [
    "print(set_b - set_a)"
   ]
  },
  {
   "cell_type": "code",
   "execution_count": 26,
   "metadata": {},
   "outputs": [
    {
     "name": "stdout",
     "output_type": "stream",
     "text": [
      "{'Colombia', 'Mexico', 'Peru'}\n"
     ]
    }
   ],
   "source": [
    "# DIFERENCIA SIMETRICA (Unión sin los elementos que estan en la intersección) con el metodo symmetric_difference()\n",
    "set_f = set_a.symmetric_difference(set_b)\n",
    "print(set_f)"
   ]
  },
  {
   "cell_type": "code",
   "execution_count": 27,
   "metadata": {},
   "outputs": [
    {
     "name": "stdout",
     "output_type": "stream",
     "text": [
      "{'Colombia', 'Mexico', 'Peru'}\n"
     ]
    }
   ],
   "source": [
    "# DIFERENCIA SIMETRICA con el operador ^\n",
    "print(set_a ^ set_b)"
   ]
  }
 ],
 "metadata": {
  "kernelspec": {
   "display_name": "Python 3",
   "language": "python",
   "name": "python3"
  },
  "language_info": {
   "codemirror_mode": {
    "name": "ipython",
    "version": 3
   },
   "file_extension": ".py",
   "mimetype": "text/x-python",
   "name": "python",
   "nbconvert_exporter": "python",
   "pygments_lexer": "ipython3",
   "version": "3.11.0"
  },
  "orig_nbformat": 4,
  "vscode": {
   "interpreter": {
    "hash": "c261aea317cc0286b3b3261fbba9abdec21eaa57589985bb7a274bf54d6cc0a7"
   }
  }
 },
 "nbformat": 4,
 "nbformat_minor": 2
}
