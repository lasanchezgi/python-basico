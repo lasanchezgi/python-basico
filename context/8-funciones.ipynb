{
 "cells": [
  {
   "attachments": {},
   "cell_type": "markdown",
   "metadata": {},
   "source": [
    "# Funciones\n",
    "\n",
    "Normalmente dentro de nuestros programas tenemos grandes bloques de codigo que nos toca ejecutarlos multiples veces, en lugar de reescribir dicho codigo multiple veces, lo que hacemos es encerrar ese bloque de codigo en algo llamado *funciones* y esas *funciones* luego las podemos usar varias veces desde diferentes puntos con eso logramos la reutilización del codigo y a lo largo del tiempo ganar mantenibilidad.\n",
    "\n",
    "* Las funciones son muy utiles, cuando estamos escribiendo piezas de codigo, porque nos permiten contener y aislar ciertos bloques de codigo para que luego sean reutilizables y mantenibles a través del tiempo\n",
    "* Las funciones las podemos llamar y usar desde varios puntos"
   ]
  },
  {
   "cell_type": "code",
   "execution_count": 2,
   "metadata": {},
   "outputs": [],
   "source": [
    "def my_print(text):\n",
    "    print(text)\n",
    "    print(text * 2)\n",
    "    print('This is my print!')\n",
    "    print('This is my print!!')\n",
    "    print('This is my print!!!')"
   ]
  },
  {
   "cell_type": "code",
   "execution_count": 3,
   "metadata": {},
   "outputs": [
    {
     "name": "stdout",
     "output_type": "stream",
     "text": [
      "Holi!\n",
      "Holi!Holi!\n",
      "This is my print!\n",
      "This is my print!!\n",
      "This is my print!!!\n"
     ]
    }
   ],
   "source": [
    "my_print('Holi!')"
   ]
  },
  {
   "cell_type": "code",
   "execution_count": 4,
   "metadata": {},
   "outputs": [],
   "source": [
    "def suma (a, b):\n",
    "    print(a + b)"
   ]
  },
  {
   "cell_type": "code",
   "execution_count": 5,
   "metadata": {},
   "outputs": [
    {
     "name": "stdout",
     "output_type": "stream",
     "text": [
      "120\n",
      "3\n",
      "68\n",
      "10\n"
     ]
    }
   ],
   "source": [
    "suma(45,75)\n",
    "suma(1,2)\n",
    "suma(26,42)\n",
    "suma(5,5)"
   ]
  },
  {
   "attachments": {},
   "cell_type": "markdown",
   "metadata": {},
   "source": [
    "## return\n",
    "\n",
    "Normalmente una función recibe unos parametros y retorna un resultado"
   ]
  },
  {
   "cell_type": "code",
   "execution_count": 6,
   "metadata": {},
   "outputs": [
    {
     "data": {
      "text/plain": [
       "45"
      ]
     },
     "execution_count": 6,
     "metadata": {},
     "output_type": "execute_result"
    }
   ],
   "source": [
    "1 + 2 + 3 + 4 + 5 + 6 + 7 + 8 + 9"
   ]
  },
  {
   "cell_type": "code",
   "execution_count": 7,
   "metadata": {},
   "outputs": [
    {
     "name": "stdout",
     "output_type": "stream",
     "text": [
      "45\n"
     ]
    }
   ],
   "source": [
    "sum = 0\n",
    "for x in range(1, 10):\n",
    "    sum += x\n",
    "print(sum)"
   ]
  },
  {
   "cell_type": "code",
   "execution_count": 8,
   "metadata": {},
   "outputs": [],
   "source": [
    "def sum_with_range (min, max):\n",
    "    print(min,max)\n",
    "    sum = 0\n",
    "    for x in range(min, max):\n",
    "        sum += x\n",
    "    return sum"
   ]
  },
  {
   "cell_type": "code",
   "execution_count": 9,
   "metadata": {},
   "outputs": [
    {
     "name": "stdout",
     "output_type": "stream",
     "text": [
      "1 10\n"
     ]
    },
    {
     "data": {
      "text/plain": [
       "int"
      ]
     },
     "execution_count": 9,
     "metadata": {},
     "output_type": "execute_result"
    }
   ],
   "source": [
    "type(sum_with_range(1,10))"
   ]
  },
  {
   "cell_type": "code",
   "execution_count": 10,
   "metadata": {},
   "outputs": [
    {
     "name": "stdout",
     "output_type": "stream",
     "text": [
      "1 10\n"
     ]
    },
    {
     "data": {
      "text/plain": [
       "45"
      ]
     },
     "execution_count": 10,
     "metadata": {},
     "output_type": "execute_result"
    }
   ],
   "source": [
    "sum_with_range(1,10)"
   ]
  },
  {
   "cell_type": "code",
   "execution_count": 11,
   "metadata": {},
   "outputs": [
    {
     "name": "stdout",
     "output_type": "stream",
     "text": [
      "5 5\n"
     ]
    },
    {
     "data": {
      "text/plain": [
       "0"
      ]
     },
     "execution_count": 11,
     "metadata": {},
     "output_type": "execute_result"
    }
   ],
   "source": [
    "sum_with_range(5,5)"
   ]
  },
  {
   "cell_type": "code",
   "execution_count": 12,
   "metadata": {},
   "outputs": [
    {
     "name": "stdout",
     "output_type": "stream",
     "text": [
      "5 11\n"
     ]
    },
    {
     "data": {
      "text/plain": [
       "45"
      ]
     },
     "execution_count": 12,
     "metadata": {},
     "output_type": "execute_result"
    }
   ],
   "source": [
    "sum_with_range(5,11)"
   ]
  },
  {
   "attachments": {},
   "cell_type": "markdown",
   "metadata": {},
   "source": [
    "## Parametros por defecto y multiples returns"
   ]
  },
  {
   "cell_type": "code",
   "execution_count": 13,
   "metadata": {},
   "outputs": [],
   "source": [
    "def find_volume(length = 1, width = 1, depth = 1):\n",
    "    return length * width * depth"
   ]
  },
  {
   "cell_type": "code",
   "execution_count": 14,
   "metadata": {},
   "outputs": [
    {
     "data": {
      "text/plain": [
       "125"
      ]
     },
     "execution_count": 14,
     "metadata": {},
     "output_type": "execute_result"
    }
   ],
   "source": [
    "find_volume(5,5,5)"
   ]
  },
  {
   "cell_type": "code",
   "execution_count": 15,
   "metadata": {},
   "outputs": [
    {
     "name": "stdout",
     "output_type": "stream",
     "text": [
      "125\n"
     ]
    }
   ],
   "source": [
    "result = find_volume(5,5,5)\n",
    "print(result)"
   ]
  },
  {
   "cell_type": "code",
   "execution_count": 16,
   "metadata": {},
   "outputs": [
    {
     "data": {
      "text/plain": [
       "1"
      ]
     },
     "execution_count": 16,
     "metadata": {},
     "output_type": "execute_result"
    }
   ],
   "source": [
    "# Hace el calculo con los valores por defecto\n",
    "find_volume()"
   ]
  },
  {
   "cell_type": "code",
   "execution_count": 17,
   "metadata": {},
   "outputs": [
    {
     "data": {
      "text/plain": [
       "10"
      ]
     },
     "execution_count": 17,
     "metadata": {},
     "output_type": "execute_result"
    }
   ],
   "source": [
    "# Especificando solo un valor para la función\n",
    "find_volume(width=10)"
   ]
  },
  {
   "cell_type": "code",
   "execution_count": 18,
   "metadata": {},
   "outputs": [
    {
     "data": {
      "text/plain": [
       "100"
      ]
     },
     "execution_count": 18,
     "metadata": {},
     "output_type": "execute_result"
    }
   ],
   "source": [
    "find_volume(width=10, depth=10)"
   ]
  },
  {
   "cell_type": "code",
   "execution_count": 19,
   "metadata": {},
   "outputs": [
    {
     "data": {
      "text/plain": [
       "1000"
      ]
     },
     "execution_count": 19,
     "metadata": {},
     "output_type": "execute_result"
    }
   ],
   "source": [
    "find_volume(10,10,10)"
   ]
  },
  {
   "cell_type": "code",
   "execution_count": 20,
   "metadata": {},
   "outputs": [],
   "source": [
    "def find_volume(length = 1, width = 1, depth = 1):\n",
    "    return 'Volumen', length * width * depth"
   ]
  },
  {
   "cell_type": "code",
   "execution_count": 21,
   "metadata": {},
   "outputs": [
    {
     "data": {
      "text/plain": [
       "('Volumen', 210)"
      ]
     },
     "execution_count": 21,
     "metadata": {},
     "output_type": "execute_result"
    }
   ],
   "source": [
    "find_volume(5,6,7)"
   ]
  },
  {
   "cell_type": "code",
   "execution_count": 22,
   "metadata": {},
   "outputs": [
    {
     "data": {
      "text/plain": [
       "tuple"
      ]
     },
     "execution_count": 22,
     "metadata": {},
     "output_type": "execute_result"
    }
   ],
   "source": [
    "type(find_volume(5,6,7))"
   ]
  },
  {
   "cell_type": "code",
   "execution_count": 23,
   "metadata": {},
   "outputs": [
    {
     "name": "stdout",
     "output_type": "stream",
     "text": [
      "Volumen\n",
      "6\n"
     ]
    }
   ],
   "source": [
    "text, result = find_volume(1,2,3)\n",
    "print(text)\n",
    "print(result)"
   ]
  },
  {
   "attachments": {},
   "cell_type": "markdown",
   "metadata": {},
   "source": [
    "## Scope\n",
    "\n",
    "Alcance \n",
    "\n",
    "* **Local scope:** Es el bloque donde estamos definiendo alguna variable y podemos empezar a trabajar con ella\n",
    "* **Enclosing scope:**\n",
    "* **Global scope:**\n",
    "* **Built-in:**  "
   ]
  },
  {
   "cell_type": "code",
   "execution_count": 24,
   "metadata": {},
   "outputs": [
    {
     "name": "stdout",
     "output_type": "stream",
     "text": [
      "100\n"
     ]
    },
    {
     "data": {
      "text/plain": [
       "210"
      ]
     },
     "execution_count": 24,
     "metadata": {},
     "output_type": "execute_result"
    }
   ],
   "source": [
    "price = 100 # Tiene un alcance global en este archivo, se puede utilizar en funciones, en ciclos o condicionales\n",
    "def increment():\n",
    "    # El define otro price, es como una nueva variable, sin importar que afuera ya estuvo definida\n",
    "    # Las vraiables dentro del bloque de la función tiene un contexto local\n",
    "    price = 200\n",
    "    price = price + 10\n",
    "    return price\n",
    "\n",
    "print(price)\n",
    "increment()"
   ]
  },
  {
   "cell_type": "code",
   "execution_count": 25,
   "metadata": {},
   "outputs": [
    {
     "name": "stdout",
     "output_type": "stream",
     "text": [
      "100\n"
     ]
    },
    {
     "data": {
      "text/plain": [
       "210"
      ]
     },
     "execution_count": 25,
     "metadata": {},
     "output_type": "execute_result"
    }
   ],
   "source": [
    "# En este caso, la variable result solo tiene contexto dentro de nuestra función \n",
    "# Fuera del conexto genera un error\n",
    "price = 100\n",
    "\n",
    "def increment():\n",
    "    price = 200\n",
    "    result = price + 10\n",
    "    return result\n",
    "\n",
    "print(price)\n",
    "increment()\n",
    "#print(result)\n"
   ]
  },
  {
   "attachments": {},
   "cell_type": "markdown",
   "metadata": {},
   "source": [
    "## Funciones anonimas: lambda\n",
    "\n",
    "Permiten gran versatilidad a la hora de declarar y de manejar cierta sintaxis para las funciones\n",
    "\n",
    "```\n",
    "lambda argumento_de_entrada : operacion_de_salida\n",
    "```"
   ]
  },
  {
   "cell_type": "code",
   "execution_count": 26,
   "metadata": {},
   "outputs": [],
   "source": [
    "def increment(x):\n",
    "    return x + 1"
   ]
  },
  {
   "cell_type": "code",
   "execution_count": 27,
   "metadata": {},
   "outputs": [
    {
     "data": {
      "text/plain": [
       "6"
      ]
     },
     "execution_count": 27,
     "metadata": {},
     "output_type": "execute_result"
    }
   ],
   "source": [
    "increment(5)"
   ]
  },
  {
   "cell_type": "code",
   "execution_count": 28,
   "metadata": {},
   "outputs": [
    {
     "data": {
      "text/plain": [
       "21"
      ]
     },
     "execution_count": 28,
     "metadata": {},
     "output_type": "execute_result"
    }
   ],
   "source": [
    "# Una variable se le puede asignar una función tipo lambda\n",
    "increment_v2 = lambda x : x + 1 \n",
    "increment_v2(20)"
   ]
  },
  {
   "cell_type": "code",
   "execution_count": 29,
   "metadata": {},
   "outputs": [],
   "source": [
    "full_name = lambda name, lastname : f'The full name is {name.title()} {lastname.title()}'"
   ]
  },
  {
   "cell_type": "code",
   "execution_count": 30,
   "metadata": {},
   "outputs": [
    {
     "name": "stdout",
     "output_type": "stream",
     "text": [
      "The full name is Laura Sánchez Giraldo\n"
     ]
    }
   ],
   "source": [
    "text = full_name('laura', 'sánchez giraldo')\n",
    "print(text)"
   ]
  },
  {
   "attachments": {},
   "cell_type": "markdown",
   "metadata": {},
   "source": [
    "## Higher order function (HOF): una función dentro de otra función\n",
    "\n",
    "Nosotros le podemos enviar a una función otra función y ejecutarla desde allí\n",
    "\n",
    "Se le puede enviara como un atributo precisamente una función y ejecutarla dentro de la otra función\n",
    "\n",
    "Uno de los grandes beneficios de HOF es poder utilizar las lambdas o poder precisamente declarar funciones sin necesidad de la estructura tradicional de función"
   ]
  },
  {
   "cell_type": "code",
   "execution_count": 31,
   "metadata": {},
   "outputs": [],
   "source": [
    "def increment(x):\n",
    "    return x + 1"
   ]
  },
  {
   "cell_type": "code",
   "execution_count": 32,
   "metadata": {},
   "outputs": [],
   "source": [
    "def high_order_function(x, func):\n",
    "    return x + func(x)"
   ]
  },
  {
   "cell_type": "code",
   "execution_count": 33,
   "metadata": {},
   "outputs": [
    {
     "data": {
      "text/plain": [
       "5"
      ]
     },
     "execution_count": 33,
     "metadata": {},
     "output_type": "execute_result"
    }
   ],
   "source": [
    "# La función solo se envia, no se debe ejecutar\n",
    "# Si se ejecuta: increment(2), genera un error. Solo se necesita enviar la definición de la función \n",
    "# Porque la HOF recibe la declaración de esa función y dentro de ella ejecuta la otra función y le va enviar su respectivo parametro de entrada\n",
    "high_order_function(2, increment)"
   ]
  },
  {
   "cell_type": "code",
   "execution_count": 34,
   "metadata": {},
   "outputs": [],
   "source": [
    "increment_v2 = lambda x : x + 1"
   ]
  },
  {
   "cell_type": "code",
   "execution_count": 35,
   "metadata": {},
   "outputs": [
    {
     "data": {
      "text/plain": [
       "5"
      ]
     },
     "execution_count": 35,
     "metadata": {},
     "output_type": "execute_result"
    }
   ],
   "source": [
    "high_order_function_v2 = lambda x, func : x + func(x)\n",
    "high_order_function_v2 (2,increment_v2 )"
   ]
  },
  {
   "cell_type": "code",
   "execution_count": 36,
   "metadata": {},
   "outputs": [
    {
     "data": {
      "text/plain": [
       "6"
      ]
     },
     "execution_count": 36,
     "metadata": {},
     "output_type": "execute_result"
    }
   ],
   "source": [
    "# La función de entrada puede estar cambiando muy dinamicamente y casi sin necesidad de definirla o asignarla a una variable como tal \n",
    "# con la estructura lambda\n",
    "high_order_function_v2(2, lambda x : x * 2)"
   ]
  },
  {
   "attachments": {},
   "cell_type": "markdown",
   "metadata": {},
   "source": [
    "## Map\n",
    "\n",
    "Su función principal es hacer transformaciones a una lista dada de elementos (se iteran normalmente bajo las listas)\n",
    "\n",
    "Es una función 1 a 1\n",
    "\n",
    "Es una HOF, se le puede enviar otra función y no necesito definir la función se la puedo enviar como una lambda\n",
    "\n",
    "Map es una de las funciones que se consideran que NO modifca el estado del array original, sino que por lo contrario crea uno nuevo "
   ]
  },
  {
   "cell_type": "code",
   "execution_count": 37,
   "metadata": {},
   "outputs": [
    {
     "name": "stdout",
     "output_type": "stream",
     "text": [
      "[1, 2, 3, 4, 5]\n",
      "[2, 4, 6, 8, 10]\n"
     ]
    }
   ],
   "source": [
    "numbers = [1, 2, 3, 4, 5]\n",
    "numbers_v2 = []\n",
    "\n",
    "for number in numbers:\n",
    "    numbers_v2.append(number*2)\n",
    "\n",
    "print(numbers)\n",
    "print(numbers_v2)"
   ]
  },
  {
   "cell_type": "code",
   "execution_count": 38,
   "metadata": {},
   "outputs": [
    {
     "name": "stdout",
     "output_type": "stream",
     "text": [
      "[1, 2, 3, 4, 5]\n",
      "[2, 4, 6, 8, 10]\n"
     ]
    }
   ],
   "source": [
    "numbers_v3 = list(map(lambda i : i * 2, numbers))\n",
    "print(numbers)\n",
    "print(numbers_v3)"
   ]
  },
  {
   "cell_type": "code",
   "execution_count": 39,
   "metadata": {},
   "outputs": [
    {
     "name": "stdout",
     "output_type": "stream",
     "text": [
      "[1, 2, 3, 4, 5]\n",
      "[6, 7, 8, 9]\n",
      "[7, 9, 11, 13]\n"
     ]
    }
   ],
   "source": [
    "numbers_1 = [1,2,3,4,5]\n",
    "numbers_2 = [6,7,8,9]\n",
    "\n",
    "result = list(map(lambda x, y : x + y, numbers_1, numbers_2))\n",
    "\n",
    "print(numbers_1)\n",
    "print(numbers_2)\n",
    "print(result)"
   ]
  },
  {
   "attachments": {},
   "cell_type": "markdown",
   "metadata": {},
   "source": [
    "### Map con diccionarios\n",
    "\n",
    "Al trabajar con diccionarios, es bastante delicado ya que al modificar un atributo del diccionario puede que estes modificando todo el array original y NO generando uno nuevo, esto puede producir varios problemas sino es el comportamiento que tu esperas"
   ]
  },
  {
   "cell_type": "code",
   "execution_count": 40,
   "metadata": {},
   "outputs": [
    {
     "name": "stdout",
     "output_type": "stream",
     "text": [
      "[100, 200, 300]\n"
     ]
    }
   ],
   "source": [
    "# A partir de una lista con diccionarios, obtener una lista con solo los precios\n",
    "\n",
    "items = [\n",
    "    {\n",
    "        'product' : 'camisa',\n",
    "        'price' : 100\n",
    "    },\n",
    "    {\n",
    "        'product' : 'pantalon',\n",
    "        'price' : 200\n",
    "    },\n",
    "    {\n",
    "        'product' : 'chaqueta',\n",
    "        'price' : 300\n",
    "    },\n",
    "]\n",
    "\n",
    "prices = list(map(lambda item : item['price'], items))\n",
    "print(prices)"
   ]
  },
  {
   "cell_type": "code",
   "execution_count": 41,
   "metadata": {},
   "outputs": [
    {
     "name": "stdout",
     "output_type": "stream",
     "text": [
      "[{'product': 'camisa', 'price': 100, 'taxes': 19.0}, {'product': 'pantalon', 'price': 200, 'taxes': 38.0}, {'product': 'chaqueta', 'price': 300, 'taxes': 57.0}]\n",
      "[{'product': 'camisa', 'price': 100, 'taxes': 19.0}, {'product': 'pantalon', 'price': 200, 'taxes': 38.0}, {'product': 'chaqueta', 'price': 300, 'taxes': 57.0}]\n"
     ]
    }
   ],
   "source": [
    "# Para crear un nuevo atributo en un diccionario \n",
    "# NO se utiliza una lambda function porque se necesita más de una linea de codigo, asi que de define una función\n",
    "def add_taxes(item):\n",
    "    item['taxes'] = item['price'] * 0.19\n",
    "    return item\n",
    "\n",
    "new_items = list(map(add_taxes, items))\n",
    "print(new_items)\n",
    "# Hubo un cambio en el array original, esto puede producir muchos errores \n",
    "# Esto se debe a una referencia en memoria... \n",
    "print(items)"
   ]
  },
  {
   "attachments": {},
   "cell_type": "markdown",
   "metadata": {},
   "source": [
    "### Reto: Map con inmutabilidad\n",
    "\n",
    "¿Por qué ocurre esa modificación en la lista original tras hacer el map? \n",
    "\n",
    "Tiene que ver con la **referencia en memoria**, es decir, cuando trabajamos con un diccionario hay un referencia (un espacio en nuestra computadora que tiene ese diccionario), cuando nostros hacemos operaciones con un número primitivo (red de números, red de strings) y hacemos transformaciones, alli lo que hacemos es que en esa transformación se esta calculando un nuevo valor y ese valor es asignado al array (lista), pero cuando trabajamos con diccionarios no se asigna como un nuevo valor, el diccionario se asigna como una referencia en memoria, entonces al hacer una modificación se hace una modificación tanto para el array original como para el nuevo, entonces estamos modificando los dos arrays, ya que los dos comparten la misma referencia en memoria.\n",
    "\n",
    "Este compartamiento tiene que ver con los conceptos de **mutabilidad** e **inmutabilidad** que tenemos en varios lenguajes de programación\n",
    "\n",
    "NO es realmente un problema, porque puede que en realidad se quiera modificar el arreglo original, pero sino se debe adicionar metodos que no cambien el array original lo que llamariamos *inmutable* "
   ]
  },
  {
   "cell_type": "code",
   "execution_count": 42,
   "metadata": {},
   "outputs": [
    {
     "name": "stdout",
     "output_type": "stream",
     "text": [
      "[{'product': 'camisa', 'price': 100, 'taxes': 19.0}, {'product': 'pantalon', 'price': 200, 'taxes': 38.0}, {'product': 'chaqueta', 'price': 300, 'taxes': 57.0}]\n",
      "[{'product': 'camisa', 'price': 100}, {'product': 'pantalon', 'price': 200}, {'product': 'chaqueta', 'price': 300}]\n"
     ]
    }
   ],
   "source": [
    "items = [\n",
    "    {\n",
    "        'product' : 'camisa',\n",
    "        'price' : 100\n",
    "    },\n",
    "    {\n",
    "        'product' : 'pantalon',\n",
    "        'price' : 200\n",
    "    },\n",
    "    {\n",
    "        'product' : 'chaqueta',\n",
    "        'price' : 300\n",
    "    },\n",
    "]\n",
    "\n",
    "def add_taxes(item):\n",
    "    # Del diccionario original generamos una copia con el metodo .copy()\n",
    "    # Se copia los elementos del diccionario, pero no se trae la refencia en memoria\n",
    "    new_item = item.copy()\n",
    "    new_item['taxes'] = new_item['price'] * 0.19\n",
    "    return new_item\n",
    "\n",
    "new_items = list(map(add_taxes, items))\n",
    "print(new_items)\n",
    "print(items)"
   ]
  },
  {
   "attachments": {},
   "cell_type": "markdown",
   "metadata": {},
   "source": [
    "## Filter\n",
    "\n",
    "Sirve para filtrar elementos de una lista\n",
    "\n",
    "```\n",
    "filter(funcion, lista)\n",
    "\n",
    "filter(funcion lambda, lista)\n",
    "```"
   ]
  },
  {
   "cell_type": "code",
   "execution_count": 43,
   "metadata": {},
   "outputs": [],
   "source": [
    "numbers = [1,2,3,4,5]\n",
    "\n",
    "new_numbers = list(filter(lambda x : x % 2 == 0, numbers))"
   ]
  },
  {
   "cell_type": "code",
   "execution_count": 44,
   "metadata": {},
   "outputs": [
    {
     "name": "stdout",
     "output_type": "stream",
     "text": [
      "[1, 2, 3, 4, 5]\n",
      "[2, 4]\n"
     ]
    }
   ],
   "source": [
    "print(numbers)\n",
    "print(new_numbers)"
   ]
  },
  {
   "cell_type": "code",
   "execution_count": 45,
   "metadata": {},
   "outputs": [],
   "source": [
    "matches = [\n",
    "  {\n",
    "    'home_team': 'Bolivia',\n",
    "    'away_team': 'Uruguay',\n",
    "    'home_team_score': 3,\n",
    "    'away_team_score': 1,\n",
    "    'home_team_result': 'Win'\n",
    "  },\n",
    "  {\n",
    "    'home_team': 'Brazil',\n",
    "    'away_team': 'Mexico',\n",
    "    'home_team_score': 1,\n",
    "    'away_team_score': 1,\n",
    "    'home_team_result': 'Draw'\n",
    "  },\n",
    "  {\n",
    "    'home_team': 'Ecuador',\n",
    "    'away_team': 'Venezuela',\n",
    "    'home_team_score': 5,\n",
    "    'away_team_score': 0,\n",
    "    'home_team_result': 'Win'\n",
    "  },\n",
    "]"
   ]
  },
  {
   "cell_type": "code",
   "execution_count": 46,
   "metadata": {},
   "outputs": [
    {
     "name": "stdout",
     "output_type": "stream",
     "text": [
      "[{'home_team': 'Bolivia', 'away_team': 'Uruguay', 'home_team_score': 3, 'away_team_score': 1, 'home_team_result': 'Win'}, {'home_team': 'Brazil', 'away_team': 'Mexico', 'home_team_score': 1, 'away_team_score': 1, 'home_team_result': 'Draw'}, {'home_team': 'Ecuador', 'away_team': 'Venezuela', 'home_team_score': 5, 'away_team_score': 0, 'home_team_result': 'Win'}]\n",
      "3\n"
     ]
    }
   ],
   "source": [
    "print(matches)\n",
    "print(len(matches))"
   ]
  },
  {
   "cell_type": "code",
   "execution_count": 47,
   "metadata": {},
   "outputs": [
    {
     "name": "stdout",
     "output_type": "stream",
     "text": [
      "[{'home_team': 'Bolivia', 'away_team': 'Uruguay', 'home_team_score': 3, 'away_team_score': 1, 'home_team_result': 'Win'}, {'home_team': 'Ecuador', 'away_team': 'Venezuela', 'home_team_score': 5, 'away_team_score': 0, 'home_team_result': 'Win'}]\n",
      "2\n"
     ]
    }
   ],
   "source": [
    "new_list = list(filter(lambda item : item['home_team_result'] == 'Win', matches))\n",
    "print(new_list)\n",
    "print(len(new_list))"
   ]
  },
  {
   "attachments": {},
   "cell_type": "markdown",
   "metadata": {},
   "source": [
    "## Reduce\n",
    "\n",
    "Se trata de reducir algo a un solo valor \n",
    "\n",
    "Tomar una lista y sacar una solución de esa lista "
   ]
  },
  {
   "cell_type": "code",
   "execution_count": 48,
   "metadata": {},
   "outputs": [
    {
     "name": "stdout",
     "output_type": "stream",
     "text": [
      "15\n"
     ]
    }
   ],
   "source": [
    "# Se importa\n",
    "import functools \n",
    "\n",
    "numbers = [1,2,3,4,5]\n",
    "\n",
    "result = functools.reduce(lambda counter, item : counter + item, numbers)\n",
    "print(result)"
   ]
  },
  {
   "cell_type": "code",
   "execution_count": 49,
   "metadata": {},
   "outputs": [],
   "source": [
    "def accum(counter, item):\n",
    "    print('counter: ', counter)\n",
    "    print('item', item)\n",
    "    return counter + item"
   ]
  },
  {
   "cell_type": "code",
   "execution_count": 50,
   "metadata": {},
   "outputs": [
    {
     "name": "stdout",
     "output_type": "stream",
     "text": [
      "counter:  1\n",
      "item 2\n",
      "counter:  3\n",
      "item 3\n",
      "counter:  6\n",
      "item 4\n",
      "counter:  10\n",
      "item 5\n",
      "15\n"
     ]
    }
   ],
   "source": [
    "result_v2 = functools.reduce(accum, numbers)\n",
    "print(result_v2)"
   ]
  }
 ],
 "metadata": {
  "kernelspec": {
   "display_name": "Python 3",
   "language": "python",
   "name": "python3"
  },
  "language_info": {
   "codemirror_mode": {
    "name": "ipython",
    "version": 3
   },
   "file_extension": ".py",
   "mimetype": "text/x-python",
   "name": "python",
   "nbconvert_exporter": "python",
   "pygments_lexer": "ipython3",
   "version": "3.11.0"
  },
  "orig_nbformat": 4,
  "vscode": {
   "interpreter": {
    "hash": "c261aea317cc0286b3b3261fbba9abdec21eaa57589985bb7a274bf54d6cc0a7"
   }
  }
 },
 "nbformat": 4,
 "nbformat_minor": 2
}
