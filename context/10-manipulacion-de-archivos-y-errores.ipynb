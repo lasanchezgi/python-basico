{
 "cells": [
  {
   "attachments": {},
   "cell_type": "markdown",
   "metadata": {},
   "source": [
    "# Manipulación de archivos y errores"
   ]
  },
  {
   "attachments": {},
   "cell_type": "markdown",
   "metadata": {},
   "source": [
    "## Iterables\n",
    "\n",
    "Se pueden controlar no solo desde un ciclo, sino directamente manual desde el codigo\n",
    "\n",
    "Cuando se esta haciendo la iteración de manera manual, es decir, no dejamos al *for* hacer su trabajo, sino que uno mismo esta haciendo la iteración con *next()* tenemos que tener en cuenta que en algun momento se va a llegar al limite de esa iteración y esto va a generar una exepción"
   ]
  },
  {
   "cell_type": "code",
   "execution_count": 1,
   "metadata": {},
   "outputs": [
    {
     "name": "stdout",
     "output_type": "stream",
     "text": [
      "1\n",
      "2\n",
      "3\n",
      "4\n",
      "5\n",
      "6\n",
      "7\n",
      "8\n",
      "9\n"
     ]
    }
   ],
   "source": [
    "for i in range(1,10):\n",
    "    print(i)"
   ]
  },
  {
   "cell_type": "code",
   "execution_count": 2,
   "metadata": {},
   "outputs": [
    {
     "name": "stdout",
     "output_type": "stream",
     "text": [
      "range(1, 11)\n",
      "<class 'range'>\n"
     ]
    }
   ],
   "source": [
    "my_iterable = range(1,11)\n",
    "print(my_iterable)\n",
    "print(type(my_iterable))"
   ]
  },
  {
   "cell_type": "code",
   "execution_count": 3,
   "metadata": {},
   "outputs": [
    {
     "name": "stdout",
     "output_type": "stream",
     "text": [
      "<range_iterator object at 0x000002A62880ED70>\n",
      "<class 'range_iterator'>\n"
     ]
    }
   ],
   "source": [
    "my_iter = iter(range(1,11))\n",
    "print(my_iter)\n",
    "print(type(my_iter))"
   ]
  },
  {
   "cell_type": "code",
   "execution_count": 4,
   "metadata": {},
   "outputs": [
    {
     "name": "stdout",
     "output_type": "stream",
     "text": [
      "1\n",
      "2\n",
      "3\n"
     ]
    }
   ],
   "source": [
    "# Iterando de forma manual\n",
    "# El for va imprimiendo poco a poco, segun se necesite, para que el recurso en memoria no sea tan alto\n",
    "print(next(my_iter))\n",
    "print(next(my_iter))\n",
    "print(next(my_iter))"
   ]
  },
  {
   "cell_type": "code",
   "execution_count": 5,
   "metadata": {},
   "outputs": [
    {
     "name": "stdout",
     "output_type": "stream",
     "text": [
      "<range_iterator object at 0x000002A62880C730>\n",
      "<class 'range_iterator'>\n",
      "1\n"
     ]
    }
   ],
   "source": [
    "my_iter = iter(range(1,4))\n",
    "print(my_iter)\n",
    "print(type(my_iter))\n",
    "print(next(my_iter))"
   ]
  },
  {
   "attachments": {},
   "cell_type": "markdown",
   "metadata": {},
   "source": [
    "## Errores en Python\n",
    "\n",
    "* SyntaxError\n",
    "* ZeroDivisionError --> Al dividir por cero\n",
    "* NameError --> No existe\n",
    "\n",
    "Una vez Python encuentra un error para el programa, no se ejecutan más lineas posteriores a donde se encontró el error"
   ]
  },
  {
   "cell_type": "code",
   "execution_count": 6,
   "metadata": {},
   "outputs": [],
   "source": [
    "#print(0/0)\n",
    "#ZeroDivisionError: division by zero"
   ]
  },
  {
   "cell_type": "code",
   "execution_count": 7,
   "metadata": {},
   "outputs": [],
   "source": [
    "#print(resul)\n",
    "#NameError: name 'resul' is not defined\n"
   ]
  },
  {
   "cell_type": "code",
   "execution_count": 8,
   "metadata": {},
   "outputs": [],
   "source": [
    "suma =lambda x,y : x+ y \n",
    "assert suma(2,2) == 4"
   ]
  },
  {
   "cell_type": "code",
   "execution_count": 9,
   "metadata": {},
   "outputs": [
    {
     "ename": "Exception",
     "evalue": "NO se permiten menores de edad",
     "output_type": "error",
     "traceback": [
      "\u001b[1;31m---------------------------------------------------------------------------\u001b[0m",
      "\u001b[1;31mException\u001b[0m                                 Traceback (most recent call last)",
      "Cell \u001b[1;32mIn[9], line 5\u001b[0m\n\u001b[0;32m      1\u001b[0m age \u001b[38;5;241m=\u001b[39m \u001b[38;5;241m10\u001b[39m\n\u001b[0;32m      3\u001b[0m \u001b[38;5;28;01mif\u001b[39;00m age \u001b[38;5;241m<\u001b[39m \u001b[38;5;241m18\u001b[39m:\n\u001b[0;32m      4\u001b[0m     \u001b[38;5;66;03m# Mensaje de error\u001b[39;00m\n\u001b[1;32m----> 5\u001b[0m     \u001b[38;5;28;01mraise\u001b[39;00m \u001b[38;5;167;01mException\u001b[39;00m(\u001b[38;5;124m'\u001b[39m\u001b[38;5;124mNO se permiten menores de edad\u001b[39m\u001b[38;5;124m'\u001b[39m)\n",
      "\u001b[1;31mException\u001b[0m: NO se permiten menores de edad"
     ]
    }
   ],
   "source": [
    "age = 10\n",
    "\n",
    "if age < 18:\n",
    "    # Mensaje de error\n",
    "    raise Exception('NO se permiten menores de edad')"
   ]
  },
  {
   "attachments": {},
   "cell_type": "markdown",
   "metadata": {},
   "source": [
    "## Manejo de excepciones\n",
    "\n",
    "Cada vez que Python encuentra un error lo vamos a controlar y manejar, para evitar que se detenga la operación del programa"
   ]
  },
  {
   "cell_type": "code",
   "execution_count": 10,
   "metadata": {},
   "outputs": [
    {
     "name": "stdout",
     "output_type": "stream",
     "text": [
      "division by zero\n",
      "Holi\n"
     ]
    }
   ],
   "source": [
    "try:\n",
    "    print(0/0)\n",
    "except ZeroDivisionError as error:\n",
    "    print(error)\n",
    "\n",
    "print('Holi')"
   ]
  },
  {
   "cell_type": "code",
   "execution_count": 11,
   "metadata": {},
   "outputs": [
    {
     "name": "stdout",
     "output_type": "stream",
     "text": [
      "Uno no es igual que uno\n",
      "Holi\n"
     ]
    }
   ],
   "source": [
    "try:\n",
    "    assert 1 != 1, 'Uno no es igual que uno'\n",
    "except AssertionError as error:\n",
    "    print(error)\n",
    "print('Holi')"
   ]
  },
  {
   "cell_type": "code",
   "execution_count": 12,
   "metadata": {},
   "outputs": [
    {
     "name": "stdout",
     "output_type": "stream",
     "text": [
      "No se permiten menores de edad\n",
      "Holi\n"
     ]
    }
   ],
   "source": [
    "try:\n",
    "    age = 10\n",
    "    if age < 18:\n",
    "        raise Exception('No se permiten menores de edad')\n",
    "except Exception as error:\n",
    "    print(error)\n",
    "\n",
    "print('Holi')"
   ]
  },
  {
   "cell_type": "code",
   "execution_count": 13,
   "metadata": {},
   "outputs": [
    {
     "name": "stdout",
     "output_type": "stream",
     "text": [
      "division by zero\n",
      "Holi\n"
     ]
    }
   ],
   "source": [
    "try:\n",
    "    print(0/0)\n",
    "    assert 1 != 1, 'Uno no es igual que uno'\n",
    "    age = 10\n",
    "    if age < 18:\n",
    "        raise Exception('No se permiten menores de edad')\n",
    "except ZeroDivisionError as error:\n",
    "    print(error)\n",
    "except AssertionError as error:\n",
    "    print(error)\n",
    "except Exception as error:\n",
    "    print(error)\n",
    "    \n",
    "print('Holi')"
   ]
  },
  {
   "attachments": {},
   "cell_type": "markdown",
   "metadata": {},
   "source": [
    "## Leer un archivo de texto"
   ]
  },
  {
   "cell_type": "code",
   "execution_count": 14,
   "metadata": {},
   "outputs": [
    {
     "name": "stdout",
     "output_type": "stream",
     "text": [
      "<_io.TextIOWrapper name='../data/text.txt' mode='r' encoding='cp1252'>\n",
      "<class '_io.TextIOWrapper'>\n",
      "Nuevas cosas en este archivo...\n",
      "Nuevas cosas en este archivo...\n",
      "Nuevas cosas en este archivo...\n",
      "\n"
     ]
    }
   ],
   "source": [
    "file = open('../data/text.txt')\n",
    "print(file)\n",
    "print(type(file))\n",
    "print(file.read())"
   ]
  },
  {
   "cell_type": "code",
   "execution_count": 15,
   "metadata": {},
   "outputs": [
    {
     "name": "stdout",
     "output_type": "stream",
     "text": [
      "\n",
      "\n"
     ]
    }
   ],
   "source": [
    "# Para leerlo linea a linea (es menos pesado para la memoria)\n",
    "print(file.readline())\n",
    "print(file.readline())"
   ]
  },
  {
   "cell_type": "code",
   "execution_count": 16,
   "metadata": {},
   "outputs": [],
   "source": [
    "# Leer linea a linea con un ciclo for\n",
    "for line in file:\n",
    "    print(line)"
   ]
  },
  {
   "cell_type": "code",
   "execution_count": 17,
   "metadata": {},
   "outputs": [],
   "source": [
    "# Cerrar archivo (libera memoria y se cierra el archivo)\n",
    "file.close()"
   ]
  },
  {
   "cell_type": "code",
   "execution_count": 18,
   "metadata": {},
   "outputs": [
    {
     "name": "stdout",
     "output_type": "stream",
     "text": [
      "Nuevas cosas en este archivo...\n",
      "\n",
      "Nuevas cosas en este archivo...\n",
      "\n",
      "Nuevas cosas en este archivo...\n",
      "\n"
     ]
    }
   ],
   "source": [
    "# De esta manera, una vez acabe el bloque de instrucciones, Python solito cierra el archivo\n",
    "with open('../data/text.txt') as file:\n",
    "    for line in file:\n",
    "        print(line)"
   ]
  },
  {
   "attachments": {},
   "cell_type": "markdown",
   "metadata": {},
   "source": [
    "## Escribir en un archivo\n",
    "\n",
    "El permiso de *r+* nos permite leer y escribir, sin embargo, esta orientado a agregar nuevas lineas... Respetando el contenido que el archivo ya tiene y agregar más\n",
    "\n",
    "Con *w+* tenemos tambien permiso de lectura y escritura, pero se sobreescribe el archivo"
   ]
  },
  {
   "cell_type": "code",
   "execution_count": 19,
   "metadata": {},
   "outputs": [
    {
     "name": "stdout",
     "output_type": "stream",
     "text": [
      "Nuevas cosas en este archivo...\n",
      "\n",
      "Nuevas cosas en este archivo...\n",
      "\n",
      "Nuevas cosas en este archivo...\n",
      "\n"
     ]
    }
   ],
   "source": [
    "with open('../data/text.txt', 'r+') as file:\n",
    "    for line in file:\n",
    "        print(line)\n",
    "    file.write('Nuevas cosas en este archivo...\\n')\n",
    "    file.write('Nuevas cosas en este archivo...\\n')\n",
    "    file.write('Nuevas cosas en este archivo...\\n')"
   ]
  },
  {
   "cell_type": "code",
   "execution_count": 20,
   "metadata": {},
   "outputs": [],
   "source": [
    "with open('../data/text.txt', 'w+') as file:\n",
    "    for line in file:\n",
    "        print(line)\n",
    "    file.write('Nuevas cosas en este archivo...\\n')\n",
    "    file.write('Nuevas cosas en este archivo...\\n')\n",
    "    file.write('Nuevas cosas en este archivo...\\n')"
   ]
  },
  {
   "attachments": {},
   "cell_type": "markdown",
   "metadata": {},
   "source": [
    "## Leer un CSV\n",
    "\n",
    "Los archivos CSV son los más comunes que se encuentran en donde la información esta organizada con filas y columnas \n",
    "\n",
    "Lo manejan diferentes equipos:\n",
    "* Finanzas\n",
    "* Data Science\n",
    "\n",
    "Por lo general este tipo de archivos se filtran y se analizan"
   ]
  },
  {
   "cell_type": "code",
   "execution_count": 21,
   "metadata": {},
   "outputs": [
    {
     "name": "stdout",
     "output_type": "stream",
     "text": [
      "{'Rank': '36', 'CCA3': 'AFG', 'Country/Territory': 'Afghanistan', 'Capital': 'Kabul', 'Continent': 'Asia', '2022 Population': '41128771', '2020 Population': '38972230', '2015 Population': '33753499', '2010 Population': '28189672', '2000 Population': '19542982', '1990 Population': '10694796', '1980 Population': '12486631', '1970 Population': '10752971', 'Area (kmÂ²)': '652230', 'Density (per kmÂ²)': '63.0587', 'Growth Rate': '1.0257', 'World Population Percentage': '0.52'}\n"
     ]
    }
   ],
   "source": [
    "import csv\n",
    "\n",
    "def read_csv(path):\n",
    "    with open(path, 'r') as csvfile:\n",
    "        reader = csv.reader(csvfile, delimiter=',')\n",
    "        header = next(reader)\n",
    "        data = []\n",
    "\n",
    "        for row in reader:\n",
    "            #print('*****' * 5)\n",
    "            #print(row)\n",
    "            iterable = zip(header, row)\n",
    "            #print(list(iterable))\n",
    "            # Generando un diccionario a partir del dict comprehension\n",
    "            country_dict = {key : value for key, value in iterable}\n",
    "            # Generando una lista de diccionarios en donde se tiene clave - valor \n",
    "            data.append(country_dict)\n",
    "            #print(country_dict)\n",
    "            return data\n",
    "\n",
    "if __name__ == '__main__':\n",
    "    data = read_csv('../data/data.csv')\n",
    "    print(data[0])"
   ]
  }
 ],
 "metadata": {
  "kernelspec": {
   "display_name": "Python 3",
   "language": "python",
   "name": "python3"
  },
  "language_info": {
   "codemirror_mode": {
    "name": "ipython",
    "version": 3
   },
   "file_extension": ".py",
   "mimetype": "text/x-python",
   "name": "python",
   "nbconvert_exporter": "python",
   "pygments_lexer": "ipython3",
   "version": "3.11.0"
  },
  "orig_nbformat": 4,
  "vscode": {
   "interpreter": {
    "hash": "c261aea317cc0286b3b3261fbba9abdec21eaa57589985bb7a274bf54d6cc0a7"
   }
  }
 },
 "nbformat": 4,
 "nbformat_minor": 2
}
